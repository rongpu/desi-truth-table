{
 "cells": [
  {
   "cell_type": "code",
   "execution_count": 2,
   "metadata": {
    "collapsed": true
   },
   "outputs": [],
   "source": [
    "%matplotlib inline\n",
    "from __future__ import division, print_function\n",
    "import sys, os\n",
    "sys.path.append('/global/common/edison/contrib/hpcosmo/hpcports_gnu-default/fitsio-0.9.10_c0563e28-9.0/lib/python2.7/site-packages/')\n",
    "import numpy as np\n",
    "import matplotlib.pyplot as plt\n",
    "import fitsio"
   ]
  },
  {
   "cell_type": "code",
   "execution_count": 3,
   "metadata": {
    "collapsed": false
   },
   "outputs": [],
   "source": [
    "data_dir = '/project/projectdirs/desi/target/analysis/truth_dr3.1_match_only/'\n",
    "\n",
    "filelist = [\n",
    "            'decals_dr3.1_cfhtls-d2-i_match_only', \n",
    "            'decals_dr3.1_cfhtls-d2-r_match_only', \n",
    "            'decals_dr3.1_cosmos_acs_match_only', \n",
    "            'decals_dr3.1_stripe82_stars_match_only', \n",
    "            'decals_dr3.1_spies_match_only', \n",
    "            'decals_dr3.1_deep2-field2_match_only', \n",
    "            'decals_dr3.1_deep2-field3_match_only', \n",
    "            'decals_dr3.1_deep2-field4_match_only', \n",
    "            'decals_dr3.1_cosmos_zphot_match_only', \n",
    "            'decals_dr3.1_vipers_pdr2_w1_match_only', \n",
    "            'decals_dr3.1_vipers_pdr2_w4_match_only',\n",
    "            'decals_dr3.1_ages_match_only', \n",
    "            'decals_dr3.1_stripe82_specz_match_only', \n",
    "            'decals_dr3.1_sdss_match_only', \n",
    "            'decals_dr3.1_AllQSO.DECaLS.dr2_match_only', \n",
    "            'decals_dr3.1_Stars_str82_355_4.DECaLS.dr2_match_only',\n",
    "        ]\n",
    "catalogs = [filelist[i][:-11] for i in range(len(filelist))]"
   ]
  },
  {
   "cell_type": "code",
   "execution_count": 4,
   "metadata": {
    "collapsed": false
   },
   "outputs": [
    {
     "name": "stdout",
     "output_type": "stream",
     "text": [
      "decals_dr3.1_deep2-field2_match_only\n",
      "6559\n",
      "0\n",
      "0\n"
     ]
    }
   ],
   "source": [
    "filename = 'decals_dr3.1_deep2-field2_match_only'\n",
    "print(filename)\n",
    "cat = fitsio.read(os.path.join(data_dir, filename)+'.fits', columns=['DECAM_NOBS', 'DECAM_DEPTH', 'DECAM_GALDEPTH'])\n",
    "# mask = (cat['DECAM_NOBS'][:, 1]>=3) & (cat['DECAM_NOBS'][:, 2]>=3) & (cat['DECAM_NOBS'][:, 4]>=3)\n",
    "mask = (cat['DECAM_NOBS'][:, 1]>=2) & (cat['DECAM_NOBS'][:, 2]>=2) & (cat['DECAM_NOBS'][:, 4]>=2)\n",
    "cat = cat[mask]\n",
    "print(len(cat))\n",
    "mask = (cat['DECAM_DEPTH'][:, 1]>0) & (cat['DECAM_DEPTH'][:, 2]>0) & (cat['DECAM_DEPTH'][:, 4]>0)\n",
    "print(np.sum(~mask))\n",
    "cat = cat[mask]\n",
    "mask = (cat['DECAM_GALDEPTH'][:, 1]>0) & (cat['DECAM_GALDEPTH'][:, 2]>0) & (cat['DECAM_GALDEPTH'][:, 4]>0)\n",
    "print(np.sum(~mask))\n",
    "cat = cat[mask]"
   ]
  },
  {
   "cell_type": "code",
   "execution_count": 5,
   "metadata": {
    "collapsed": false
   },
   "outputs": [
    {
     "name": "stdout",
     "output_type": "stream",
     "text": [
      "2.64003659094\n",
      "2.64323829852\n",
      "2.64308583626\n",
      "23.9608\n",
      "23.5684\n",
      "22.3918\n"
     ]
    }
   ],
   "source": [
    "print(np.mean(cat['DECAM_NOBS'][:, 1]))\n",
    "print(np.mean(cat['DECAM_NOBS'][:, 2]))\n",
    "print(np.mean(cat['DECAM_NOBS'][:, 4]))\n",
    "print(np.mean(-2.5*(np.log10((5/np.sqrt(cat['DECAM_GALDEPTH'][:, 1])))-9)))\n",
    "print(np.mean(-2.5*(np.log10((5/np.sqrt(cat['DECAM_GALDEPTH'][:, 2])))-9)))\n",
    "print(np.mean(-2.5*(np.log10((5/np.sqrt(cat['DECAM_GALDEPTH'][:, 4])))-9)))"
   ]
  },
  {
   "cell_type": "code",
   "execution_count": 6,
   "metadata": {
    "collapsed": false
   },
   "outputs": [
    {
     "name": "stdout",
     "output_type": "stream",
     "text": [
      "decals_dr3.1_cfhtls-d2-i\n",
      "79356 192 0\n",
      "decals_dr3.1_cfhtls-d2-r\n",
      "78439 195 0\n",
      "decals_dr3.1_cosmos_acs\n",
      "134816 297 0\n",
      "decals_dr3.1_stripe82_stars\n",
      "1146258 33826 0\n",
      "decals_dr3.1_spies\n",
      "1570817 8957 0\n",
      "decals_dr3.1_deep2-field2\n",
      "6925 0 0\n",
      "decals_dr3.1_deep2-field3\n",
      "11259 0 0\n",
      "decals_dr3.1_deep2-field4\n",
      "10100 4 0\n",
      "decals_dr3.1_cosmos_zphot\n",
      "194756 432 0\n",
      "decals_dr3.1_vipers_pdr2_w1\n",
      "58957 636 0\n",
      "decals_dr3.1_vipers_pdr2_w4\n",
      "29004 8 0\n",
      "decals_dr3.1_ages\n",
      "30963 37 0\n",
      "decals_dr3.1_stripe82_specz\n",
      "181511 2278 0\n",
      "decals_dr3.1_sdss\n",
      "2093440 4571 0\n",
      "decals_dr3.1_AllQSO.DECaLS.dr2\n",
      "67788 33 0\n",
      "decals_dr3.1_Stars_str82_355_4.DECaLS.dr2\n",
      "78213 329 0\n"
     ]
    }
   ],
   "source": [
    "nobs = np.zeros([len(filelist), 3])\n",
    "galdepth_median = np.zeros([len(filelist), 3])\n",
    "galdepth_mean = np.zeros([len(filelist), 3])\n",
    "galdepth_std = np.zeros([len(filelist), 3])\n",
    "depth_median = np.zeros([len(filelist), 3])\n",
    "depth_mean = np.zeros([len(filelist), 3])\n",
    "depth_std = np.zeros([len(filelist), 3])\n",
    "\n",
    "for index, filename in enumerate(filelist):\n",
    "    print(catalogs[index])\n",
    "    cat = fitsio.read(os.path.join(data_dir, filename)+'.fits', columns=['DECAM_NOBS', 'DECAM_DEPTH', 'DECAM_GALDEPTH'])\n",
    "    # mask = (cat['DECAM_NOBS'][:, 1]>=3) & (cat['DECAM_NOBS'][:, 2]>=3) & (cat['DECAM_NOBS'][:, 4]>=3)\n",
    "    mask1 = (cat['DECAM_NOBS'][:, 1]>=2) & (cat['DECAM_NOBS'][:, 2]>=2) & (cat['DECAM_NOBS'][:, 4]>=2)\n",
    "    mask2 = (cat['DECAM_DEPTH'][:, 1]>0) & (cat['DECAM_DEPTH'][:, 2]>0) & (cat['DECAM_DEPTH'][:, 4]>0)\n",
    "    mask3 = (cat['DECAM_GALDEPTH'][:, 1]>0) & (cat['DECAM_GALDEPTH'][:, 2]>0) & (cat['DECAM_GALDEPTH'][:, 4]>0)\n",
    "    print(len(cat), np.sum(mask1 & (~mask2)), np.sum((mask1 & mask2) & (~mask3)))\n",
    "    cat = cat[(mask1 & mask2 & mask3)]\n",
    "    \n",
    "    nobs[index, 0] = np.mean(cat['DECAM_NOBS'][:, 1])\n",
    "    nobs[index, 1] = np.mean(cat['DECAM_NOBS'][:, 2])\n",
    "    nobs[index, 2] = np.mean(cat['DECAM_NOBS'][:, 4])\n",
    "\n",
    "    galdepth_median[index, 0] = np.median(-2.5*(np.log10((5/np.sqrt(cat['DECAM_GALDEPTH'][:, 1])))-9))\n",
    "    galdepth_median[index, 1] = np.median(-2.5*(np.log10((5/np.sqrt(cat['DECAM_GALDEPTH'][:, 2])))-9))\n",
    "    galdepth_median[index, 2] = np.median(-2.5*(np.log10((5/np.sqrt(cat['DECAM_GALDEPTH'][:, 4])))-9))\n",
    "    galdepth_mean[index, 0] = np.mean(-2.5*(np.log10((5/np.sqrt(cat['DECAM_GALDEPTH'][:, 1])))-9))\n",
    "    galdepth_mean[index, 1] = np.mean(-2.5*(np.log10((5/np.sqrt(cat['DECAM_GALDEPTH'][:, 2])))-9))\n",
    "    galdepth_mean[index, 2] = np.mean(-2.5*(np.log10((5/np.sqrt(cat['DECAM_GALDEPTH'][:, 4])))-9))\n",
    "    galdepth_std[index, 0] = np.std(-2.5*(np.log10((5/np.sqrt(cat['DECAM_GALDEPTH'][:, 1])))-9))\n",
    "    galdepth_std[index, 1] = np.std(-2.5*(np.log10((5/np.sqrt(cat['DECAM_GALDEPTH'][:, 2])))-9))\n",
    "    galdepth_std[index, 2] = np.std(-2.5*(np.log10((5/np.sqrt(cat['DECAM_GALDEPTH'][:, 4])))-9))\n",
    "\n",
    "    depth_median[index, 0] = np.median(-2.5*(np.log10((5/np.sqrt(cat['DECAM_DEPTH'][:, 1])))-9))\n",
    "    depth_median[index, 1] = np.median(-2.5*(np.log10((5/np.sqrt(cat['DECAM_DEPTH'][:, 2])))-9))\n",
    "    depth_median[index, 2] = np.median(-2.5*(np.log10((5/np.sqrt(cat['DECAM_DEPTH'][:, 4])))-9))\n",
    "    depth_mean[index, 0] = np.mean(-2.5*(np.log10((5/np.sqrt(cat['DECAM_DEPTH'][:, 1])))-9))\n",
    "    depth_mean[index, 1] = np.mean(-2.5*(np.log10((5/np.sqrt(cat['DECAM_DEPTH'][:, 2])))-9))\n",
    "    depth_mean[index, 2] = np.mean(-2.5*(np.log10((5/np.sqrt(cat['DECAM_DEPTH'][:, 4])))-9))\n",
    "    depth_std[index, 0] = np.std(-2.5*(np.log10((5/np.sqrt(cat['DECAM_DEPTH'][:, 1])))-9))\n",
    "    depth_std[index, 1] = np.std(-2.5*(np.log10((5/np.sqrt(cat['DECAM_DEPTH'][:, 2])))-9))\n",
    "    depth_std[index, 2] = np.std(-2.5*(np.log10((5/np.sqrt(cat['DECAM_DEPTH'][:, 4])))-9))"
   ]
  },
  {
   "cell_type": "code",
   "execution_count": null,
   "metadata": {
    "collapsed": true
   },
   "outputs": [],
   "source": [
    "# Number of visits\n",
    "for index, catalog in enumerate(catalogs):\n",
    "    print(catalog)\n",
    "    print(nobs[index])"
   ]
  },
  {
   "cell_type": "code",
   "execution_count": 28,
   "metadata": {
    "collapsed": true
   },
   "outputs": [
    {
     "name": "stdout",
     "output_type": "stream",
     "text": [
      "decals_dr3.1_cfhtls-d2-i\n",
      "[ 24.42068863  23.93570709  23.37114716]\n",
      "decals_dr3.1_cfhtls-d2-r\n",
      "[ 24.42086029  23.9366684   23.37169838]\n",
      "decals_dr3.1_cosmos_acs\n",
      "[ 24.41353989  23.92997932  23.37798882]\n",
      "decals_dr3.1_stripe82_stars\n",
      "[ 24.59356308  24.29403687  23.12832642]\n",
      "decals_dr3.1_spies\n",
      "[ 24.71281052  24.28126907  23.18947601]\n",
      "decals_dr3.1_deep2-field2\n",
      "[ 24.01736259  23.6423893   22.46056747]\n",
      "decals_dr3.1_deep2-field3\n",
      "[ 24.72844124  24.36789322  23.27338028]\n",
      "decals_dr3.1_deep2-field4\n",
      "[ 24.53479958  24.22894287  22.92362022]\n",
      "decals_dr3.1_cosmos_zphot\n",
      "[ 24.39672661  23.9246521   23.3788147 ]\n",
      "decals_dr3.1_vipers_pdr2_w1\n",
      "[ 24.55582047  24.19566345  23.00593567]\n",
      "decals_dr3.1_vipers_pdr2_w4\n",
      "[ 24.56409454  24.24456024  23.15581131]\n",
      "decals_dr3.1_ages\n",
      "[ 23.75779152  23.40780258  22.48681068]\n",
      "decals_dr3.1_stripe82_specz\n",
      "[ 24.55744171  24.23284149  23.06515312]\n",
      "decals_dr3.1_sdss\n",
      "[ 24.33402061  23.98722839  22.91981506]\n",
      "decals_dr3.1_AllQSO.DECaLS.dr2\n",
      "[ 24.30500221  23.92745018  22.99544716]\n",
      "decals_dr3.1_Stars_str82_355_4.DECaLS.dr2\n",
      "[ 24.68061066  24.24944687  23.13567734]\n"
     ]
    }
   ],
   "source": [
    "# Depth\n",
    "for index, catalog in enumerate(catalogs):\n",
    "    print(catalog)\n",
    "    print(galdepth_median[index])"
   ]
  },
  {
   "cell_type": "code",
   "execution_count": 108,
   "metadata": {
    "collapsed": false
   },
   "outputs": [
    {
     "data": {
      "text/plain": [
       "array([[  6.79596529,   4.86793073,  10.56619886],\n",
       "       [  6.80289611,   4.8736117 ,  10.58219905],\n",
       "       [  6.79552416,   4.8445948 ,  10.7789368 ],\n",
       "       [  5.24750976,   4.0472119 ,   3.68100005],\n",
       "       [  7.47371622,   4.4656127 ,   4.0916871 ],\n",
       "       [  2.64003659,   2.6432383 ,   2.64308584],\n",
       "       [  6.93381593,   4.4582119 ,   3.02923757],\n",
       "       [  4.62010152,   3.24527919,   3.31736041],\n",
       "       [  6.62186617,   4.74379939,  10.62520892],\n",
       "       [  4.57602979,   3.78267392,   4.32940517],\n",
       "       [  4.20173983,   3.03192682,   2.97376799],\n",
       "       [  3.41751437,   3.41707209,   3.47456877],\n",
       "       [  5.29450734,   3.96627967,   3.69097737],\n",
       "       [  3.96640991,   3.57125806,   3.67918587],\n",
       "       [  4.12195044,   3.55837951,   3.81288617],\n",
       "       [  7.66200503,   4.40635677,   4.15119852]])"
      ]
     },
     "execution_count": 108,
     "metadata": {},
     "output_type": "execute_result"
    }
   ],
   "source": [
    "nobs"
   ]
  },
  {
   "cell_type": "code",
   "execution_count": 31,
   "metadata": {
    "collapsed": false
   },
   "outputs": [
    {
     "data": {
      "text/plain": [
       "array([[ 24.42068863,  23.93570709,  23.37114716],\n",
       "       [ 24.42086029,  23.9366684 ,  23.37169838],\n",
       "       [ 24.41353989,  23.92997932,  23.37798882],\n",
       "       [ 24.59356308,  24.29403687,  23.12832642],\n",
       "       [ 24.71281052,  24.28126907,  23.18947601],\n",
       "       [ 24.01736259,  23.6423893 ,  22.46056747],\n",
       "       [ 24.72844124,  24.36789322,  23.27338028],\n",
       "       [ 24.53479958,  24.22894287,  22.92362022],\n",
       "       [ 24.39672661,  23.9246521 ,  23.3788147 ],\n",
       "       [ 24.55582047,  24.19566345,  23.00593567],\n",
       "       [ 24.56409454,  24.24456024,  23.15581131],\n",
       "       [ 23.75779152,  23.40780258,  22.48681068],\n",
       "       [ 24.55744171,  24.23284149,  23.06515312],\n",
       "       [ 24.33402061,  23.98722839,  22.91981506],\n",
       "       [ 24.30500221,  23.92745018,  22.99544716],\n",
       "       [ 24.68061066,  24.24944687,  23.13567734]])"
      ]
     },
     "execution_count": 31,
     "metadata": {},
     "output_type": "execute_result"
    }
   ],
   "source": [
    "galdepth_median"
   ]
  },
  {
   "cell_type": "code",
   "execution_count": 32,
   "metadata": {
    "collapsed": true
   },
   "outputs": [],
   "source": [
    "np.savetxt('./nobs.txt', nobs)\n",
    "np.savetxt('./galdepth_median.txt', galdepth_median)\n",
    "np.savetxt('./galdepth_mean.txt', galdepth_mean)\n",
    "np.savetxt('./galdepth_std.txt', galdepth_std)\n",
    "np.savetxt('./depth_median.txt', depth_median)\n",
    "np.savetxt('./depth_mean.txt', depth_mean)\n",
    "np.savetxt('./depth_std.txt', depth_std)"
   ]
  },
  {
   "cell_type": "code",
   "execution_count": 7,
   "metadata": {
    "collapsed": false
   },
   "outputs": [
    {
     "data": {
      "text/plain": [
       "array([[-0.26895905, -0.30364227, -0.22707748],\n",
       "       [-0.26878738, -0.30305099, -0.22686958],\n",
       "       [-0.26444626, -0.30292511, -0.22612572],\n",
       "       [-0.22657394, -0.34913445, -0.40046692],\n",
       "       [-0.20311165, -0.32678986, -0.39347458],\n",
       "       [-0.17115593, -0.21221924, -0.24026871],\n",
       "       [-0.20570564, -0.34286118, -0.43839264],\n",
       "       [-0.26427841, -0.38881493, -0.38651848],\n",
       "       [-0.25987816, -0.29527283, -0.22679901],\n",
       "       [-0.25733376, -0.33499336, -0.35225868],\n",
       "       [-0.24660492, -0.32832718, -0.37771606],\n",
       "       [-0.16970444, -0.21420479, -0.22705269],\n",
       "       [-0.22046089, -0.33836746, -0.38029671],\n",
       "       [-0.23907661, -0.3118763 , -0.3486557 ],\n",
       "       [-0.24038506, -0.30365562, -0.35589409],\n",
       "       [-0.20132256, -0.31443787, -0.36819077]])"
      ]
     },
     "execution_count": 7,
     "metadata": {},
     "output_type": "execute_result"
    }
   ],
   "source": [
    "galdepth_median - depth_median"
   ]
  },
  {
   "cell_type": "code",
   "execution_count": null,
   "metadata": {
    "collapsed": true
   },
   "outputs": [],
   "source": []
  }
 ],
 "metadata": {
  "kernelspec": {
   "display_name": "Python [Root]",
   "language": "python",
   "name": "Python [Root]"
  },
  "language_info": {
   "codemirror_mode": {
    "name": "ipython",
    "version": 2
   },
   "file_extension": ".py",
   "mimetype": "text/x-python",
   "name": "python",
   "nbconvert_exporter": "python",
   "pygments_lexer": "ipython2",
   "version": "2.7.11"
  }
 },
 "nbformat": 4,
 "nbformat_minor": 0
}
