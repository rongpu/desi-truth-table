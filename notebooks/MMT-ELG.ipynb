{
 "cells": [
  {
   "cell_type": "code",
   "execution_count": 1,
   "metadata": {},
   "outputs": [],
   "source": [
    "from __future__ import print_function, division\n",
    "import numpy as np\n",
    "import sys, os\n",
    "from astropy.table import Table\n",
    "import fitsio\n",
    "import matplotlib.pyplot as plt"
   ]
  },
  {
   "cell_type": "code",
   "execution_count": 9,
   "metadata": {},
   "outputs": [],
   "source": [
    "cat = Table.read('/Users/roz18/Downloads/MMTBinospec_Survey.csv')\n",
    "cat.write('/Users/roz18/Downloads/MMTBinospec_Survey.fits')"
   ]
  },
  {
   "cell_type": "code",
   "execution_count": 3,
   "metadata": {},
   "outputs": [
    {
     "name": "stdout",
     "output_type": "stream",
     "text": [
      "1781\n"
     ]
    }
   ],
   "source": [
    "print(len(cat))"
   ]
  },
  {
   "cell_type": "code",
   "execution_count": 4,
   "metadata": {},
   "outputs": [
    {
     "data": {
      "text/html": [
       "<i>Table masked=True length=1781</i>\n",
       "<table id=\"table4844226880\" class=\"table-striped table-bordered table-condensed\">\n",
       "<thead><tr><th>RowNum</th><th>RA</th><th>DEC</th><th>g</th><th>r</th><th>z</th><th>bitval</th><th>redshift_final</th><th>flux_final</th></tr></thead>\n",
       "<thead><tr><th>int64</th><th>float64</th><th>float64</th><th>float64</th><th>float64</th><th>float64</th><th>int64</th><th>float64</th><th>float64</th></tr></thead>\n",
       "<tr><td>0</td><td>119.017761108</td><td>32.8768253983</td><td>22.56652069091797</td><td>22.2892951965332</td><td>21.94570732116699</td><td>2008</td><td>0.7663078478577741</td><td>27.87352385323452</td></tr>\n",
       "<tr><td>1</td><td>119.040929611</td><td>32.8909541825</td><td>23.70021629333496</td><td>22.92830848693848</td><td>22.09595108032227</td><td>216</td><td>1.199920966071023</td><td>14.84096504944838</td></tr>\n",
       "<tr><td>2</td><td>119.028780838</td><td>32.9050260124</td><td>21.19597816467285</td><td>19.69440650939941</td><td>18.52955055236816</td><td>4</td><td>--</td><td>--</td></tr>\n",
       "<tr><td>3</td><td>119.011786613</td><td>32.9081728683</td><td>22.8510684967041</td><td>22.77150535583496</td><td>22.07475852966309</td><td>8</td><td>--</td><td>--</td></tr>\n",
       "<tr><td>4</td><td>118.994313687</td><td>32.6488970845</td><td>23.60039901733398</td><td>23.08465957641602</td><td>22.24292182922363</td><td>64</td><td>0.9250076570138654</td><td>6.16870109106092</td></tr>\n",
       "<tr><td>5</td><td>118.915340831</td><td>32.6519946931</td><td>23.88560676574707</td><td>22.8526668548584</td><td>22.5228214263916</td><td>8</td><td>--</td><td>--</td></tr>\n",
       "<tr><td>6</td><td>118.975891117</td><td>32.6550911846</td><td>24.32492828369141</td><td>23.5687427520752</td><td>23.21632957458496</td><td>216</td><td>1.484520966070992</td><td>3.839155064641613</td></tr>\n",
       "<tr><td>7</td><td>118.994043338</td><td>32.6554853116</td><td>24.18859100341797</td><td>23.56910514831543</td><td>22.72799682617188</td><td>1624</td><td>0.8014943479566912</td><td>7.120232484753125</td></tr>\n",
       "<tr><td>8</td><td>119.020167023</td><td>32.659987648</td><td>23.62420272827148</td><td>23.08272933959961</td><td>21.53007698059082</td><td>2000</td><td>1.217120966071021</td><td>5.933211055922288</td></tr>\n",
       "<tr><td>9</td><td>118.928815836</td><td>32.6633224789</td><td>23.34803199768066</td><td>23.10655403137207</td><td>22.44936752319336</td><td>8</td><td>0.8753285912426638</td><td>10.53130812952579</td></tr>\n",
       "<tr><td>...</td><td>...</td><td>...</td><td>...</td><td>...</td><td>...</td><td>...</td><td>...</td><td>...</td></tr>\n",
       "<tr><td>150</td><td>6.00053575215</td><td>4.06061336736</td><td>22.76636123657227</td><td>22.52061462402344</td><td>21.71102905273438</td><td>2000</td><td>0.8974532362286363</td><td>7.664054251512417</td></tr>\n",
       "<tr><td>151</td><td>5.906958287799999</td><td>4.06242518966</td><td>23.5125560760498</td><td>23.2282543182373</td><td>22.06109428405762</td><td>976</td><td>--</td><td>--</td></tr>\n",
       "<tr><td>152</td><td>5.92528091391</td><td>4.06424101669</td><td>23.30061340332031</td><td>23.42399787902832</td><td>23.19941711425781</td><td>128</td><td>1.250110688138982</td><td>9.501122366027463</td></tr>\n",
       "<tr><td>153</td><td>5.799768715519999</td><td>4.09328507707</td><td>17.94704627990723</td><td>17.65757751464844</td><td>17.60653877258301</td><td>2</td><td>--</td><td>--</td></tr>\n",
       "<tr><td>154</td><td>5.84252368484</td><td>4.10473892061</td><td>22.80527114868164</td><td>22.03863716125488</td><td>21.13167190551758</td><td>1680</td><td>0.8021996356813437</td><td>12.58811329101718</td></tr>\n",
       "<tr><td>155</td><td>5.85641402647</td><td>4.113087992030001</td><td>22.68248176574707</td><td>22.30867195129395</td><td>21.47157669067383</td><td>2008</td><td>1.042453236228641</td><td>19.47968884973717</td></tr>\n",
       "<tr><td>156</td><td>5.849737602819999</td><td>4.11463260114</td><td>22.86423873901367</td><td>22.73318481445312</td><td>22.35037422180176</td><td>8</td><td>--</td><td>--</td></tr>\n",
       "<tr><td>157</td><td>5.79736013694</td><td>4.1162744488</td><td>23.43877983093262</td><td>22.77731132507324</td><td>21.92031478881836</td><td>2000</td><td>0.7798532362286329</td><td>8.814673898211952</td></tr>\n",
       "<tr><td>158</td><td>5.86495436909</td><td>4.11977030208</td><td>23.61825752258301</td><td>23.23127174377441</td><td>22.73822593688965</td><td>856</td><td>--</td><td>--</td></tr>\n",
       "<tr><td>159</td><td>5.830347246330001</td><td>4.12239678421</td><td>23.43944549560547</td><td>22.28558921813965</td><td>20.91951560974121</td><td>1936</td><td>--</td><td>--</td></tr>\n",
       "</table>"
      ],
      "text/plain": [
       "<Table masked=True length=1781>\n",
       "RowNum         RA        ...   redshift_final       flux_final   \n",
       "int64       float64      ...      float64            float64     \n",
       "------ ----------------- ... ------------------ -----------------\n",
       "     0     119.017761108 ... 0.7663078478577741 27.87352385323452\n",
       "     1     119.040929611 ...  1.199920966071023 14.84096504944838\n",
       "     2     119.028780838 ...                 --                --\n",
       "     3     119.011786613 ...                 --                --\n",
       "     4     118.994313687 ... 0.9250076570138654  6.16870109106092\n",
       "     5     118.915340831 ...                 --                --\n",
       "     6     118.975891117 ...  1.484520966070992 3.839155064641613\n",
       "     7     118.994043338 ... 0.8014943479566912 7.120232484753125\n",
       "     8     119.020167023 ...  1.217120966071021 5.933211055922288\n",
       "     9     118.928815836 ... 0.8753285912426638 10.53130812952579\n",
       "   ...               ... ...                ...               ...\n",
       "   150     6.00053575215 ... 0.8974532362286363 7.664054251512417\n",
       "   151 5.906958287799999 ...                 --                --\n",
       "   152     5.92528091391 ...  1.250110688138982 9.501122366027463\n",
       "   153 5.799768715519999 ...                 --                --\n",
       "   154     5.84252368484 ... 0.8021996356813437 12.58811329101718\n",
       "   155     5.85641402647 ...  1.042453236228641 19.47968884973717\n",
       "   156 5.849737602819999 ...                 --                --\n",
       "   157     5.79736013694 ... 0.7798532362286329 8.814673898211952\n",
       "   158     5.86495436909 ...                 --                --\n",
       "   159 5.830347246330001 ...                 --                --"
      ]
     },
     "execution_count": 4,
     "metadata": {},
     "output_type": "execute_result"
    }
   ],
   "source": [
    "cat"
   ]
  },
  {
   "cell_type": "code",
   "execution_count": 5,
   "metadata": {},
   "outputs": [
    {
     "data": {
      "image/png": "[encoded data removed]",
      "text/plain": [
       "<Figure size 1080x576 with 1 Axes>"
      ]
     },
     "metadata": {},
     "output_type": "display_data"
    }
   ],
   "source": [
    "plt.figure(figsize=(15, 8))\n",
    "plt.plot(cat['RA'], cat['DEC'], '.', markersize=0.4, alpha=0.5)\n",
    "plt.xlabel('RA')\n",
    "plt.ylabel('DEC')\n",
    "plt.title('MMT-ELG')\n",
    "plt.show()"
   ]
  },
  {
   "cell_type": "markdown",
   "metadata": {},
   "source": [
    "__Check for duplicates__"
   ]
  },
  {
   "cell_type": "code",
   "execution_count": 6,
   "metadata": {},
   "outputs": [],
   "source": [
    "from __future__ import division, print_function\n",
    "import numpy as np\n",
    "from astropy.table import Table\n",
    "import matplotlib.pyplot as plt\n",
    "import sys, os\n",
    "home = os.path.expanduser(\"~\")+'/'\n",
    "sys.path.append(home+'git/Python/user_modules/')\n",
    "import match_coord"
   ]
  },
  {
   "cell_type": "code",
   "execution_count": 8,
   "metadata": {},
   "outputs": [
    {
     "name": "stdout",
     "output_type": "stream",
     "text": [
      "0 objects with a nearby neighbor\n",
      "0 0.00%\n"
     ]
    }
   ],
   "source": [
    "n_duplicates, idx1, idx2 = match_coord.match_self(cat['RA'], cat['DEC'], search_radius=1., \n",
    "                                                  return_indices=True, plot_q=True)\n",
    "print(n_duplicates, '{:.2f}%'.format(n_duplicates/len(cat)*100))"
   ]
  },
  {
   "cell_type": "code",
   "execution_count": null,
   "metadata": {},
   "outputs": [],
   "source": []
  }
 ],
 "metadata": {
  "kernelspec": {
   "display_name": "Python 3",
   "language": "python",
   "name": "python3"
  },
  "language_info": {
   "codemirror_mode": {
    "name": "ipython",
    "version": 3
   },
   "file_extension": ".py",
   "mimetype": "text/x-python",
   "name": "python",
   "nbconvert_exporter": "python",
   "pygments_lexer": "ipython3",
   "version": "3.6.7"
  }
 },
 "nbformat": 4,
 "nbformat_minor": 2
}
