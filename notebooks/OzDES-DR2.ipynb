{
 "cells": [
  {
   "cell_type": "code",
   "execution_count": 1,
   "metadata": {},
   "outputs": [],
   "source": [
    "from __future__ import division, print_function\n",
    "import sys, os, glob, time, warnings, gc\n",
    "import numpy as np\n",
    "# import matplotlib\n",
    "# matplotlib.use(\"Agg\")\n",
    "import matplotlib.pyplot as plt\n",
    "from astropy.table import Table, vstack, hstack\n",
    "import fitsio\n",
    "# from astropy.io import fits"
   ]
  },
  {
   "cell_type": "code",
   "execution_count": 2,
   "metadata": {},
   "outputs": [
    {
     "name": "stdout",
     "output_type": "stream",
     "text": [
      "38624\n"
     ]
    }
   ],
   "source": [
    "cat = Table.read('/Users/rongpu/Downloads/OzDES-DR2.fits')\n",
    "print(len(cat))"
   ]
  },
  {
   "cell_type": "code",
   "execution_count": 3,
   "metadata": {},
   "outputs": [
    {
     "data": {
      "text/html": [
       "<i>Table length=5</i>\n",
       "<table id=\"table140599517008000\" class=\"table-striped table-bordered table-condensed\">\n",
       "<thead><tr><th>ozdes_id</th><th>alpha_j2000</th><th>delta_j2000</th><th>rmag</th><th>object_types</th><th>z</th><th>qop</th><th>transient_type</th><th>comment</th></tr></thead>\n",
       "<thead><tr><th>bytes27</th><th>bytes9</th><th>bytes10</th><th>bytes5</th><th>bytes74</th><th>bytes8</th><th>bytes1</th><th>bytes9</th><th>bytes51</th></tr></thead>\n",
       "<tr><td>OzDES-DR2_00001</td><td>36.609138</td><td>-4.986051</td><td>24.4</td><td>SNLS</td><td>-9.999</td><td>1</td><td>None</td><td>None</td></tr>\n",
       "<tr><td>OzDES-DR2_00002</td><td>36.46225</td><td>-4.64347</td><td>24.3</td><td>SNLS</td><td>-9.999</td><td>2</td><td>None</td><td>None</td></tr>\n",
       "<tr><td>OzDES-DR2_00003</td><td>36.114389</td><td>-4.799381</td><td>22.1</td><td>PHOTOZ</td><td>-9.999</td><td>1</td><td>None</td><td>None</td></tr>\n",
       "<tr><td>OzDES-DR2_00004</td><td>36.081501</td><td>-4.798006</td><td>22.38</td><td>PHOTOZ</td><td>-9.999</td><td>1</td><td>None</td><td>None</td></tr>\n",
       "<tr><td>OzDES-DR2_00005</td><td>36.933318</td><td>-4.793021</td><td>22.17</td><td>PHOTOZ</td><td>-9.999</td><td>1</td><td>None</td><td>None</td></tr>\n",
       "</table>"
      ],
      "text/plain": [
       "<Table length=5>\n",
       "    ozdes_id    alpha_j2000 delta_j2000  rmag  ...  qop   transient_type comment\n",
       "    bytes27        bytes9     bytes10   bytes5 ... bytes1     bytes9     bytes51\n",
       "--------------- ----------- ----------- ------ ... ------ -------------- -------\n",
       "OzDES-DR2_00001   36.609138   -4.986051   24.4 ...      1           None    None\n",
       "OzDES-DR2_00002    36.46225    -4.64347   24.3 ...      2           None    None\n",
       "OzDES-DR2_00003   36.114389   -4.799381   22.1 ...      1           None    None\n",
       "OzDES-DR2_00004   36.081501   -4.798006  22.38 ...      1           None    None\n",
       "OzDES-DR2_00005   36.933318   -4.793021  22.17 ...      1           None    None"
      ]
     },
     "execution_count": 3,
     "metadata": {},
     "output_type": "execute_result"
    }
   ],
   "source": [
    "cat[:5]"
   ]
  },
  {
   "cell_type": "code",
   "execution_count": 4,
   "metadata": {},
   "outputs": [],
   "source": [
    "for col in ['alpha_j2000', 'delta_j2000', 'rmag', 'z']:\n",
    "    cat[col] = cat[col].astype('float')\n",
    "cat['qop'] = cat['qop'].astype('int')"
   ]
  },
  {
   "cell_type": "code",
   "execution_count": 5,
   "metadata": {},
   "outputs": [
    {
     "data": {
      "text/html": [
       "<i>Table length=38624</i>\n",
       "<table id=\"table140599788384208\" class=\"table-striped table-bordered table-condensed\">\n",
       "<thead><tr><th>ozdes_id</th><th>alpha_j2000</th><th>delta_j2000</th><th>rmag</th><th>object_types</th><th>z</th><th>qop</th><th>transient_type</th><th>comment</th></tr></thead>\n",
       "<thead><tr><th>bytes27</th><th>float64</th><th>float64</th><th>float64</th><th>bytes74</th><th>float64</th><th>int64</th><th>bytes9</th><th>bytes51</th></tr></thead>\n",
       "<tr><td>OzDES-DR2_00001</td><td>36.609138</td><td>-4.986051</td><td>24.4</td><td>SNLS</td><td>-9.999</td><td>1</td><td>None</td><td>None</td></tr>\n",
       "<tr><td>OzDES-DR2_00002</td><td>36.46225</td><td>-4.64347</td><td>24.3</td><td>SNLS</td><td>-9.999</td><td>2</td><td>None</td><td>None</td></tr>\n",
       "<tr><td>OzDES-DR2_00003</td><td>36.114389</td><td>-4.799381</td><td>22.1</td><td>PHOTOZ</td><td>-9.999</td><td>1</td><td>None</td><td>None</td></tr>\n",
       "<tr><td>OzDES-DR2_00004</td><td>36.081501</td><td>-4.798006</td><td>22.38</td><td>PHOTOZ</td><td>-9.999</td><td>1</td><td>None</td><td>None</td></tr>\n",
       "<tr><td>OzDES-DR2_00005</td><td>36.933318</td><td>-4.793021</td><td>22.17</td><td>PHOTOZ</td><td>-9.999</td><td>1</td><td>None</td><td>None</td></tr>\n",
       "<tr><td>OzDES-DR2_00006</td><td>34.739462</td><td>-5.199134</td><td>19.66</td><td>DEVILS</td><td>0.22024</td><td>4</td><td>None</td><td>None</td></tr>\n",
       "<tr><td>OzDES-DR2_00007</td><td>35.432856</td><td>-5.19879</td><td>18.93</td><td>DEVILS</td><td>0.3228</td><td>3</td><td>None</td><td>None</td></tr>\n",
       "<tr><td>OzDES-DR2_00008</td><td>34.132414</td><td>-5.19392</td><td>19.41</td><td>DEVILS</td><td>0.34798</td><td>4</td><td>None</td><td>None</td></tr>\n",
       "<tr><td>OzDES-DR2_00009</td><td>35.2781</td><td>-5.194779</td><td>19.17</td><td>DEVILS</td><td>0.35615</td><td>4</td><td>None</td><td>None</td></tr>\n",
       "<tr><td>OzDES-DR2_00010</td><td>34.754187</td><td>-5.19243</td><td>19.28</td><td>DEVILS</td><td>0.46853</td><td>4</td><td>None</td><td>None</td></tr>\n",
       "<tr><td>...</td><td>...</td><td>...</td><td>...</td><td>...</td><td>...</td><td>...</td><td>...</td><td>...</td></tr>\n",
       "<tr><td>Y1A1_COADD_DFULL-3173877351</td><td>53.526347</td><td>-27.529304</td><td>19.46</td><td>BrightGalaxy</td><td>0.3361</td><td>3</td><td>None</td><td>None</td></tr>\n",
       "<tr><td>Y1A1_COADD_DFULL-3173878141</td><td>54.179691</td><td>-27.520423</td><td>19.5</td><td>BrightGalaxy</td><td>0.36147</td><td>4</td><td>None</td><td>None</td></tr>\n",
       "<tr><td>Y1A1_COADD_DFULL-3173879184</td><td>54.011643</td><td>-27.510912</td><td>19.51</td><td>BrightGalaxy</td><td>0.1967</td><td>4</td><td>None</td><td>None</td></tr>\n",
       "<tr><td>Y1A1_COADD_DFULL-3173879956</td><td>53.971192</td><td>-27.505297</td><td>19.54</td><td>BrightGalaxy</td><td>0.18022</td><td>4</td><td>None</td><td>None</td></tr>\n",
       "<tr><td>Y1A1_COADD_DFULL-3174420438</td><td>53.2515</td><td>-27.531367</td><td>19.66</td><td>BrightGalaxy</td><td>-9.999</td><td>2</td><td>None</td><td>None</td></tr>\n",
       "<tr><td>Y1A1_COADD_DFULL-3174427018</td><td>53.383796</td><td>-27.502031</td><td>18.85</td><td>BrightGalaxy</td><td>-9.999</td><td>2</td><td>None</td><td>None</td></tr>\n",
       "<tr><td>Y1A1_COADD_DFULL-3174431479</td><td>53.220617</td><td>-27.492005</td><td>19.25</td><td>BrightGalaxy</td><td>-9.999</td><td>2</td><td>None</td><td>None</td></tr>\n",
       "<tr><td>DES17C3gyp</td><td>51.966125</td><td>-28.395639</td><td>24.4</td><td>Transient</td><td>0.47</td><td>3</td><td>SLSN I?</td><td>None</td></tr>\n",
       "<tr><td>DES17C3gzu</td><td>52.328958</td><td>-28.770083</td><td>23.5</td><td>Transient</td><td>0.538</td><td>3</td><td>SN Ia?</td><td>None</td></tr>\n",
       "<tr><td>DES17C3ihx</td><td>52.257625</td><td>-28.067194</td><td>23.9</td><td>Transient</td><td>0.15</td><td>4</td><td>SN Ia</td><td>None</td></tr>\n",
       "</table>"
      ],
      "text/plain": [
       "<Table length=38624>\n",
       "          ozdes_id          alpha_j2000 delta_j2000 ... transient_type comment\n",
       "          bytes27             float64     float64   ...     bytes9     bytes51\n",
       "--------------------------- ----------- ----------- ... -------------- -------\n",
       "            OzDES-DR2_00001   36.609138   -4.986051 ...           None    None\n",
       "            OzDES-DR2_00002    36.46225    -4.64347 ...           None    None\n",
       "            OzDES-DR2_00003   36.114389   -4.799381 ...           None    None\n",
       "            OzDES-DR2_00004   36.081501   -4.798006 ...           None    None\n",
       "            OzDES-DR2_00005   36.933318   -4.793021 ...           None    None\n",
       "            OzDES-DR2_00006   34.739462   -5.199134 ...           None    None\n",
       "            OzDES-DR2_00007   35.432856    -5.19879 ...           None    None\n",
       "            OzDES-DR2_00008   34.132414    -5.19392 ...           None    None\n",
       "            OzDES-DR2_00009     35.2781   -5.194779 ...           None    None\n",
       "            OzDES-DR2_00010   34.754187    -5.19243 ...           None    None\n",
       "                        ...         ...         ... ...            ...     ...\n",
       "Y1A1_COADD_DFULL-3173877351   53.526347  -27.529304 ...           None    None\n",
       "Y1A1_COADD_DFULL-3173878141   54.179691  -27.520423 ...           None    None\n",
       "Y1A1_COADD_DFULL-3173879184   54.011643  -27.510912 ...           None    None\n",
       "Y1A1_COADD_DFULL-3173879956   53.971192  -27.505297 ...           None    None\n",
       "Y1A1_COADD_DFULL-3174420438     53.2515  -27.531367 ...           None    None\n",
       "Y1A1_COADD_DFULL-3174427018   53.383796  -27.502031 ...           None    None\n",
       "Y1A1_COADD_DFULL-3174431479   53.220617  -27.492005 ...           None    None\n",
       "                 DES17C3gyp   51.966125  -28.395639 ...        SLSN I?    None\n",
       "                 DES17C3gzu   52.328958  -28.770083 ...         SN Ia?    None\n",
       "                 DES17C3ihx   52.257625  -28.067194 ...          SN Ia    None"
      ]
     },
     "execution_count": 5,
     "metadata": {},
     "output_type": "execute_result"
    }
   ],
   "source": [
    "cat"
   ]
  },
  {
   "cell_type": "code",
   "execution_count": 6,
   "metadata": {},
   "outputs": [
    {
     "data": {
      "image/png": "[encoded data removed]",
      "text/plain": [
       "<Figure size 1080x576 with 1 Axes>"
      ]
     },
     "metadata": {},
     "output_type": "display_data"
    }
   ],
   "source": [
    "plt.figure(figsize=(15, 8))\n",
    "plt.plot(cat['alpha_j2000'], cat['delta_j2000'], '.', markersize=0.4, alpha=0.5)\n",
    "plt.xlabel('RA')\n",
    "plt.ylabel('DEC')\n",
    "plt.title('OzDES-DR2')\n",
    "plt.show()"
   ]
  },
  {
   "cell_type": "markdown",
   "metadata": {},
   "source": [
    "__Check for duplicates__"
   ]
  },
  {
   "cell_type": "code",
   "execution_count": 7,
   "metadata": {},
   "outputs": [],
   "source": [
    "from __future__ import division, print_function\n",
    "import numpy as np\n",
    "from astropy.table import Table\n",
    "import matplotlib.pyplot as plt\n",
    "import sys, os\n",
    "sys.path.append(os.path.expanduser('~/git/Python/user_modules/'))\n",
    "import match_coord"
   ]
  },
  {
   "cell_type": "code",
   "execution_count": 8,
   "metadata": {},
   "outputs": [
    {
     "name": "stdout",
     "output_type": "stream",
     "text": [
      "1117 objects with a nearby neighbor\n"
     ]
    },
    {
     "data": {
      "image/png": "[encoded data removed]",
      "text/plain": [
       "<Figure size 576x576 with 3 Axes>"
      ]
     },
     "metadata": {},
     "output_type": "display_data"
    },
    {
     "name": "stdout",
     "output_type": "stream",
     "text": [
      "1117 2.89%\n"
     ]
    }
   ],
   "source": [
    "n_duplicates, idx1, idx2 = match_coord.match_self(cat['alpha_j2000'], cat['delta_j2000'], search_radius=1., \n",
    "                                                  return_indices=True, plot_q=True)\n",
    "print(n_duplicates, '{:.2f}%'.format(n_duplicates/len(cat)*100))"
   ]
  },
  {
   "cell_type": "markdown",
   "metadata": {},
   "source": [
    "------------\n",
    "## Remove duplicates"
   ]
  },
  {
   "cell_type": "code",
   "execution_count": 9,
   "metadata": {},
   "outputs": [
    {
     "name": "stdout",
     "output_type": "stream",
     "text": [
      "Loop 0\n",
      "1117 objects with a nearby neighbor\n",
      "557 objects removed\n",
      "Loop 1\n",
      "6 objects with a nearby neighbor\n",
      "3 objects removed\n",
      "Loop 2\n",
      "0 objects with a nearby neighbor\n",
      "0 objects removed\n"
     ]
    }
   ],
   "source": [
    "ra_col = 'alpha_j2000'\n",
    "dec_col = 'delta_j2000'\n",
    "\n",
    "quality_col = 'qop'\n",
    "\n",
    "# perturb the coordinates so that the 2nd closest match won't be itself\n",
    "np.random.seed(618)\n",
    "cat['dec_perturb'] = np.array(cat[dec_col], dtype=np.float64) + np.random.rand(len(cat))*(0.001/3600)\n",
    "\n",
    "# Assign a random number to break the tie\n",
    "random = np.random.rand(len(cat))\n",
    "\n",
    "continue_loop = True\n",
    "loop = 0\n",
    "while continue_loop:\n",
    "    \n",
    "    print('Loop %d'%loop)\n",
    "    loop = loop+1\n",
    "\n",
    "    n_duplicates, idx1, idx2 = match_coord.match_self(cat[ra_col], cat['dec_perturb'], search_radius=1., \n",
    "                                                      return_indices=True, plot_q=False)\n",
    "    \n",
    "    mask = (cat[quality_col][idx1]<cat[quality_col][idx2]) \\\n",
    "                  | ((cat[quality_col][idx1]==cat[quality_col][idx2]) & (random[idx1]<random[idx2]))\n",
    "    idx_remove = idx1[mask]    \n",
    "    cat.remove_rows(idx_remove)\n",
    "    print('{} objects removed'.format(len(idx_remove)))\n",
    "    \n",
    "    if n_duplicates==0:\n",
    "        continue_loop = False"
   ]
  },
  {
   "cell_type": "code",
   "execution_count": 10,
   "metadata": {},
   "outputs": [],
   "source": [
    "cat.remove_column('dec_perturb')"
   ]
  },
  {
   "cell_type": "code",
   "execution_count": 11,
   "metadata": {},
   "outputs": [
    {
     "name": "stdout",
     "output_type": "stream",
     "text": [
      "38064\n"
     ]
    }
   ],
   "source": [
    "print(len(cat))"
   ]
  },
  {
   "cell_type": "code",
   "execution_count": 12,
   "metadata": {},
   "outputs": [
    {
     "name": "stdout",
     "output_type": "stream",
     "text": [
      "0 objects with a nearby neighbor\n",
      "0 0.00%\n"
     ]
    }
   ],
   "source": [
    "n_duplicates, idx1, idx2 = match_coord.match_self(cat['alpha_j2000'], cat['delta_j2000'], search_radius=1., \n",
    "                                                  return_indices=True, plot_q=True)\n",
    "print(n_duplicates, '{:.2f}%'.format(n_duplicates/len(cat)*100))"
   ]
  },
  {
   "cell_type": "code",
   "execution_count": null,
   "metadata": {},
   "outputs": [],
   "source": []
  }
 ],
 "metadata": {
  "anaconda-cloud": {},
  "kernelspec": {
   "display_name": "Python 3",
   "language": "python",
   "name": "python3"
  },
  "language_info": {
   "codemirror_mode": {
    "name": "ipython",
    "version": 3
   },
   "file_extension": ".py",
   "mimetype": "text/x-python",
   "name": "python",
   "nbconvert_exporter": "python",
   "pygments_lexer": "ipython3",
   "version": "3.7.3"
  }
 },
 "nbformat": 4,
 "nbformat_minor": 2
}
