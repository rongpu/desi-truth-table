{
 "cells": [
  {
   "cell_type": "markdown",
   "metadata": {},
   "source": [
    "Run on NERSC\n",
    "\n",
    "Split HSC truth catalog to smaller chunks."
   ]
  },
  {
   "cell_type": "code",
   "execution_count": 1,
   "metadata": {},
   "outputs": [],
   "source": [
    "%matplotlib inline\n",
    "from __future__ import division, print_function\n",
    "import numpy as np\n",
    "from astropy.table import Table\n",
    "import matplotlib.pyplot as plt\n",
    "import fitsio"
   ]
  },
  {
   "cell_type": "code",
   "execution_count": 27,
   "metadata": {},
   "outputs": [
    {
     "name": "stdout",
     "output_type": "stream",
     "text": [
      "13899134\n"
     ]
    }
   ],
   "source": [
    "hsc = fitsio.read('/project/projectdirs/desi/target/analysis/truth/parent/hsc_pdr1_wide.forced.reduced.fits', columns=['ra', 'dec'])\n",
    "print(len(hsc))"
   ]
  },
  {
   "cell_type": "code",
   "execution_count": 28,
   "metadata": {},
   "outputs": [
    {
     "name": "stdout",
     "output_type": "stream",
     "text": [
      "1389913\n"
     ]
    }
   ],
   "source": [
    "idx = np.random.choice(len(hsc), size=len(hsc)//10, replace=False)\n",
    "hsc = hsc[idx]\n",
    "print(len(hsc))"
   ]
  },
  {
   "cell_type": "code",
   "execution_count": 30,
   "metadata": {},
   "outputs": [
    {
     "data": {
      "image/png": "[encoded data removed]",
      "text/plain": [
       "<matplotlib.figure.Figure at 0x2aaadee38eb8>"
      ]
     },
     "metadata": {},
     "output_type": "display_data"
    },
    {
     "name": "stdout",
     "output_type": "stream",
     "text": [
      "1389913\n"
     ]
    }
   ],
   "source": [
    "regions = ['south_2h', 'south_9h', 'south_12h', 'south_14h', 'south_22h', 'north_14h', 'north_16h']\n",
    "ra_range = [[0, 50], [100, 150], [150, 200], [200, 250], [300, 350], [200, 225], [225, 250]]\n",
    "\n",
    "plt.figure(figsize=(15, 8))\n",
    "\n",
    "mask_all = np.zeros(len(hsc), dtype=bool)\n",
    "for index in range(len(regions)):\n",
    "    region_name = regions[index]\n",
    "    if region_name.startswith('south'):\n",
    "        mask = hsc['dec']<30\n",
    "    else:\n",
    "        mask = hsc['dec']>30\n",
    "    mask &= (hsc['ra']>ra_range[index][0]) & (hsc['ra']<ra_range[index][1])\n",
    "    \n",
    "    if np.sum(mask_all & mask)!=0:\n",
    "        print('There is overlap!!!')\n",
    "\n",
    "    mask_all |= mask\n",
    "    \n",
    "    plt.plot(hsc['ra'][mask], hsc['dec'][mask], '.', markersize=0.3, alpha=0.5, label=region_name)\n",
    "\n",
    "plt.xlabel('RA')\n",
    "plt.ylabel('DEC')\n",
    "plt.xlim(0, 360)\n",
    "plt.grid(alpha=0.5)\n",
    "plt.legend()\n",
    "plt.show()\n",
    "\n",
    "print(np.sum(mask_all))"
   ]
  },
  {
   "cell_type": "code",
   "execution_count": null,
   "metadata": {},
   "outputs": [],
   "source": []
  }
 ],
 "metadata": {
  "kernelspec": {
   "display_name": "DESI master",
   "language": "python",
   "name": "desi-master"
  },
  "language_info": {
   "codemirror_mode": {
    "name": "ipython",
    "version": 3
   },
   "file_extension": ".py",
   "mimetype": "text/x-python",
   "name": "python",
   "nbconvert_exporter": "python",
   "pygments_lexer": "ipython3",
   "version": "3.6.4"
  }
 },
 "nbformat": 4,
 "nbformat_minor": 2
}
