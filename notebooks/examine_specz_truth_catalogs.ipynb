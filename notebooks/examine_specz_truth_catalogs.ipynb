{
 "cells": [
  {
   "cell_type": "code",
   "execution_count": 1,
   "metadata": {
    "collapsed": true
   },
   "outputs": [],
   "source": [
    "%matplotlib inline\n",
    "\n",
    "from __future__ import print_function, division\n",
    "import numpy as np\n",
    "import sys, os\n",
    "from astropy.table import Table\n",
    "from astropy.io import fits\n",
    "import fitsio\n",
    "import matplotlib.pyplot as plt\n",
    "\n",
    "home = os.path.expanduser(\"~\")+'/'\n",
    "sys.path.append(home+'git/Python/user_modules/')\n",
    "import match_coord"
   ]
  },
  {
   "cell_type": "code",
   "execution_count": 2,
   "metadata": {
    "collapsed": true
   },
   "outputs": [],
   "source": [
    "# data_dir = '/project/projectdirs/desi/target/analysis/truth/dr7.1/matched/'\n",
    "data_dir = '/data/roz18/truth/dr7.1/matched/'"
   ]
  },
  {
   "cell_type": "markdown",
   "metadata": {},
   "source": [
    "-------\n",
    "## GAMA"
   ]
  },
  {
   "cell_type": "code",
   "execution_count": 39,
   "metadata": {},
   "outputs": [
    {
     "name": "stdout",
     "output_type": "stream",
     "text": [
      "158871\n"
     ]
    }
   ],
   "source": [
    "cat = Table.read(data_dir+'GAMA-DR3-SpecObj-match.fits')\n",
    "print(len(cat))"
   ]
  },
  {
   "cell_type": "code",
   "execution_count": 42,
   "metadata": {},
   "outputs": [
    {
     "data": {
      "text/html": [
       "&lt;Table length=5&gt;\n",
       "<table id=\"table140226212027856\" class=\"table-striped table-bordered table-condensed\">\n",
       "<thead><tr><th>CATAID</th><th>GAMA_NAME</th><th>IC_FLAG</th><th>N_SPEC</th><th>N_GAMA_SPEC</th><th>DIST</th><th>SPECID</th><th>SURVEY</th><th>SURVEY_CODE</th><th>RA</th><th>DEC</th><th>WMIN</th><th>WMAX</th><th>Z</th><th>NQ</th><th>PROB</th><th>FILENAME</th><th>URL</th><th>URL_IMG</th></tr></thead>\n",
       "<thead><tr><th>int32</th><th>str23</th><th>int16</th><th>int16</th><th>int16</th><th>float32</th><th>str33</th><th>str9</th><th>int16</th><th>float64</th><th>float64</th><th>float32</th><th>float64</th><th>float32</th><th>int16</th><th>float32</th><th>str67</th><th>str88</th><th>str92</th></tr></thead>\n",
       "<tr><td>6802</td><td>GAMAJ113601.43+004315.3</td><td>4104</td><td>1</td><td>1</td><td>0.07</td><td>G12_Y3_017_187</td><td>GAMA</td><td>5</td><td>174.006</td><td>0.72093</td><td>3727.71</td><td>8857.67</td><td>0.05054</td><td>4</td><td>1.0</td><td>/GAMA/dr3/data/spectra/gama/reduced_27/1d/G12_Y3_017_187.fit</td><td>http://www.gama-survey.org/dr3/data/spectra/gama/reduced_27/1d/G12_Y3_017_187.fit</td><td>http://www.gama-survey.org/dr3/data/spectra/gama/reduced_27/1d/png/G12_Y3_017_187.png</td></tr>\n",
       "<tr><td>6806</td><td>GAMAJ113605.47+004221.3</td><td>4104</td><td>1</td><td>1</td><td>0.07</td><td>G12_Y1_AN1_238</td><td>GAMA</td><td>5</td><td>174.02279</td><td>0.70594</td><td>3727.79</td><td>8856.73</td><td>0.33124</td><td>4</td><td>1.0</td><td>/GAMA/dr3/data/spectra/gama/reduced_27/1d/G12_Y1_AN1_238.fit</td><td>http://www.gama-survey.org/dr3/data/spectra/gama/reduced_27/1d/G12_Y1_AN1_238.fit</td><td>http://www.gama-survey.org/dr3/data/spectra/gama/reduced_27/1d/png/G12_Y1_AN1_238.png</td></tr>\n",
       "<tr><td>6808</td><td>GAMAJ113624.17+003932.1</td><td>4104</td><td>1</td><td>1</td><td>0.08</td><td>G12_Y1_AN1_235</td><td>GAMA</td><td>5</td><td>174.10071</td><td>0.65891</td><td>3727.79</td><td>8856.73</td><td>0.22936</td><td>4</td><td>1.0</td><td>/GAMA/dr3/data/spectra/gama/reduced_27/1d/G12_Y1_AN1_235.fit</td><td>http://www.gama-survey.org/dr3/data/spectra/gama/reduced_27/1d/G12_Y1_AN1_235.fit</td><td>http://www.gama-survey.org/dr3/data/spectra/gama/reduced_27/1d/png/G12_Y1_AN1_235.png</td></tr>\n",
       "<tr><td>6810</td><td>GAMAJ113626.18+004814.0</td><td>4104</td><td>1</td><td>1</td><td>0.05</td><td>G12_Y2_041_164</td><td>GAMA</td><td>5</td><td>174.10908</td><td>0.8039</td><td>3727.91</td><td>8858.93</td><td>0.3263</td><td>4</td><td>1.0</td><td>/GAMA/dr3/data/spectra/gama/reduced_27/1d/G12_Y2_041_164.fit</td><td>http://www.gama-survey.org/dr3/data/spectra/gama/reduced_27/1d/G12_Y2_041_164.fit</td><td>http://www.gama-survey.org/dr3/data/spectra/gama/reduced_27/1d/png/G12_Y2_041_164.png</td></tr>\n",
       "<tr><td>6813</td><td>GAMAJ113615.31+003840.3</td><td>4104</td><td>1</td><td>1</td><td>0.05</td><td>G12_Y3_017_177</td><td>GAMA</td><td>5</td><td>174.06383</td><td>0.64454</td><td>3727.71</td><td>8857.67</td><td>0.48457</td><td>4</td><td>1.0</td><td>/GAMA/dr3/data/spectra/gama/reduced_27/1d/G12_Y3_017_177.fit</td><td>http://www.gama-survey.org/dr3/data/spectra/gama/reduced_27/1d/G12_Y3_017_177.fit</td><td>http://www.gama-survey.org/dr3/data/spectra/gama/reduced_27/1d/png/G12_Y3_017_177.png</td></tr>\n",
       "</table>"
      ],
      "text/plain": [
       "<Table length=5>\n",
       "CATAID ...\n",
       "int32  ...\n",
       "------ ...\n",
       "  6802 ...\n",
       "  6806 ...\n",
       "  6808 ...\n",
       "  6810 ...\n",
       "  6813 ..."
      ]
     },
     "execution_count": 42,
     "metadata": {},
     "output_type": "execute_result"
    }
   ],
   "source": [
    "cat[:5]"
   ]
  },
  {
   "cell_type": "code",
   "execution_count": 26,
   "metadata": {},
   "outputs": [
    {
     "name": "stdout",
     "output_type": "stream",
     "text": [
      "81.4856078202\n",
      "  SURVEY \n",
      "---------\n",
      "2dFGRS   \n",
      "GAMA     \n",
      "MGC      \n",
      "SDSS     \n",
      "WiggleZ  \n"
     ]
    }
   ],
   "source": [
    "mask = (cat['NQ']==4)\n",
    "print(np.sum(mask)/len(cat)*100)\n",
    "print(np.unique(cat[mask]['SURVEY']))"
   ]
  },
  {
   "cell_type": "code",
   "execution_count": 25,
   "metadata": {},
   "outputs": [
    {
     "name": "stdout",
     "output_type": "stream",
     "text": [
      "12.5712055693\n",
      "  SURVEY \n",
      "---------\n",
      "SDSS     \n"
     ]
    }
   ],
   "source": [
    "mask = (cat['NQ']==5)\n",
    "print(np.sum(mask)/len(cat)*100)\n",
    "print(np.unique(cat[mask]['SURVEY']))"
   ]
  },
  {
   "cell_type": "code",
   "execution_count": 43,
   "metadata": {},
   "outputs": [
    {
     "data": {
      "image/png": "[encoded data removed]",
      "text/plain": [
       "<matplotlib.figure.Figure at 0x7f88f5901ed0>"
      ]
     },
     "metadata": {},
     "output_type": "display_data"
    }
   ],
   "source": [
    "mask = (cat['NQ']==4)\n",
    "plt.hist(cat['Z'][mask], 100)\n",
    "plt.show()"
   ]
  },
  {
   "cell_type": "markdown",
   "metadata": {},
   "source": [
    "-------\n",
    "## WiggleZ"
   ]
  },
  {
   "cell_type": "code",
   "execution_count": 44,
   "metadata": {},
   "outputs": [
    {
     "name": "stdout",
     "output_type": "stream",
     "text": [
      "221177\n"
     ]
    }
   ],
   "source": [
    "cat = Table.read(data_dir+'wigglez.final-match.fits')\n",
    "print(len(cat))"
   ]
  },
  {
   "cell_type": "code",
   "execution_count": 45,
   "metadata": {},
   "outputs": [
    {
     "data": {
      "text/html": [
       "&lt;Table length=5&gt;\n",
       "<table id=\"table140226198197712\" class=\"table-striped table-bordered table-condensed\">\n",
       "<thead><tr><th>WiggleZ_Name</th><th>RA</th><th>Dec</th><th>redshift</th><th>Dredshift</th><th>Q</th><th>FUV</th><th>NUV</th><th>u</th><th>g</th><th>r</th><th>i</th><th>z</th><th>DFUV</th><th>DNUV</th><th>Du</th><th>Dg</th><th>Dr</th><th>Di</th><th>Dz</th><th>E(B-V)</th><th>class</th><th>UTdate</th><th>MFUV</th><th>Mass</th><th>DMass</th><th>SpecFile</th><th>comments</th></tr></thead>\n",
       "<thead><tr><th>str22</th><th>float64</th><th>float64</th><th>float64</th><th>float64</th><th>int64</th><th>float64</th><th>float64</th><th>float64</th><th>float64</th><th>float64</th><th>float64</th><th>float64</th><th>float64</th><th>float64</th><th>float64</th><th>float64</th><th>float64</th><th>float64</th><th>float64</th><th>float64</th><th>str12</th><th>int64</th><th>float64</th><th>float64</th><th>float64</th><th>str14</th><th>str28</th></tr></thead>\n",
       "<tr><td>R01J003003964+04292093</td><td>7.5165551</td><td>4.48912</td><td>0.35718</td><td>0.00015</td><td>5</td><td>23.92</td><td>22.63</td><td>nan</td><td>22.43</td><td>21.72</td><td>nan</td><td>21.21</td><td>0.25</td><td>0.2</td><td>nan</td><td>0.05</td><td>0.03</td><td>nan</td><td>0.07</td><td>0.017</td><td>WIG_RCS2</td><td>20090923</td><td>-18.39</td><td>9.52</td><td>0.15</td><td>wig000001.fits</td><td>N/A</td></tr>\n",
       "<tr><td>R01J003004997+04061148</td><td>7.520857</td><td>4.10316</td><td>0.53924</td><td>0.00083</td><td>3</td><td>25.13</td><td>22.55</td><td>nan</td><td>21.75</td><td>20.72</td><td>nan</td><td>19.84</td><td>0.62</td><td>0.31</td><td>nan</td><td>0.03</td><td>0.02</td><td>nan</td><td>0.03</td><td>0.0181</td><td>WIG_RCS2</td><td>20090923</td><td>-19.44</td><td>10.66</td><td>0.1</td><td>wig000002.fits</td><td>N/A</td></tr>\n",
       "<tr><td>R01J003005218+03541369</td><td>7.521778</td><td>3.903775</td><td>0.28689</td><td>0.00014</td><td>5</td><td>23.02</td><td>21.9</td><td>nan</td><td>20.74</td><td>20.01</td><td>nan</td><td>19.45</td><td>0.23</td><td>0.14</td><td>nan</td><td>0.02</td><td>0.01</td><td>nan</td><td>0.03</td><td>0.0215</td><td>WIG_RCS2</td><td>20090923</td><td>-18.61</td><td>nan</td><td>nan</td><td>wig000003.fits</td><td>N/A</td></tr>\n",
       "<tr><td>R01J003005418-02154809</td><td>7.522612</td><td>-2.263387</td><td>0.22012</td><td>2e-05</td><td>4</td><td>23.29</td><td>21.44</td><td>nan</td><td>22.75</td><td>21.82</td><td>nan</td><td>20.68</td><td>0.38</td><td>0.17</td><td>nan</td><td>0.41</td><td>0.25</td><td>nan</td><td>8.0</td><td>0.0346</td><td>WIG_RCS2</td><td>20090924</td><td>-18.45</td><td>nan</td><td>nan</td><td>wig000004.fits</td><td>N/A</td></tr>\n",
       "<tr><td>R01J003005746-02050496</td><td>7.523977</td><td>-2.084738</td><td>0.69012</td><td>0.00019</td><td>4</td><td>24.43</td><td>22.15</td><td>nan</td><td>22.86</td><td>22.39</td><td>nan</td><td>21.95</td><td>0.91</td><td>0.19</td><td>nan</td><td>0.05</td><td>0.07</td><td>nan</td><td>0.1</td><td>0.0291</td><td>WIG_RCS2</td><td>20090924</td><td>-20.45</td><td>9.79</td><td>0.09</td><td>wig000005.fits</td><td>N/A</td></tr>\n",
       "</table>"
      ],
      "text/plain": [
       "<Table length=5>\n",
       "     WiggleZ_Name          RA    ...    SpecFile              comments          \n",
       "        str22           float64  ...     str14                 str28            \n",
       "---------------------- --------- ... -------------- ----------------------------\n",
       "R01J003003964+04292093 7.5165551 ... wig000001.fits N/A                         \n",
       "R01J003004997+04061148  7.520857 ... wig000002.fits N/A                         \n",
       "R01J003005218+03541369  7.521778 ... wig000003.fits N/A                         \n",
       "R01J003005418-02154809  7.522612 ... wig000004.fits N/A                         \n",
       "R01J003005746-02050496  7.523977 ... wig000005.fits N/A                         "
      ]
     },
     "execution_count": 45,
     "metadata": {},
     "output_type": "execute_result"
    }
   ],
   "source": [
    "cat[:5]"
   ]
  },
  {
   "cell_type": "code",
   "execution_count": 51,
   "metadata": {},
   "outputs": [
    {
     "name": "stdout",
     "output_type": "stream",
     "text": [
      "65.9919431044\n"
     ]
    },
    {
     "data": {
      "image/png": "[encoded data removed]",
      "text/plain": [
       "<matplotlib.figure.Figure at 0x7f88f4af70d0>"
      ]
     },
     "metadata": {},
     "output_type": "display_data"
    },
    {
     "data": {
      "image/png": "[encoded data removed]",
      "text/plain": [
       "<matplotlib.figure.Figure at 0x7f88b5e84610>"
      ]
     },
     "metadata": {},
     "output_type": "display_data"
    }
   ],
   "source": [
    "mask = ((cat['Q']==4) | (cat['Q']==5)) & (cat['redshift']>0)\n",
    "print(np.sum(mask)/len(cat)*100)\n",
    "\n",
    "plt.hist(cat['redshift'][mask], 100)\n",
    "plt.show()\n",
    "\n",
    "plt.hist(cat['redshift'][mask], 100, range=(-0.1, 2))\n",
    "plt.show()"
   ]
  },
  {
   "cell_type": "markdown",
   "metadata": {},
   "source": [
    "-------\n",
    "## OzDES"
   ]
  },
  {
   "cell_type": "code",
   "execution_count": 3,
   "metadata": {
    "scrolled": true
   },
   "outputs": [
    {
     "name": "stdout",
     "output_type": "stream",
     "text": [
      "5324\n"
     ]
    }
   ],
   "source": [
    "cat = Table.read(data_dir+'OzDES-DR1-match.fits')\n",
    "print(len(cat))"
   ]
  },
  {
   "cell_type": "code",
   "execution_count": 4,
   "metadata": {
    "scrolled": true
   },
   "outputs": [
    {
     "data": {
      "text/html": [
       "&lt;Table length=5&gt;\n",
       "<table id=\"table139730655430672\" class=\"table-striped table-bordered table-condensed\">\n",
       "<thead><tr><th>OzDES_ID</th><th>RA</th><th>DEC</th><th>z</th><th>flag</th><th>types</th></tr></thead>\n",
       "<thead><tr><th>str12</th><th>float64</th><th>float64</th><th>float32</th><th>str4</th><th>str70</th></tr></thead>\n",
       "<tr><td>OzDES_000001</td><td>35.55125</td><td>-4.78397222222</td><td>0.72434</td><td>4</td><td>StrongLens</td></tr>\n",
       "<tr><td>OzDES_000002</td><td>37.0239166667</td><td>-5.29522222222</td><td>1.24552</td><td>3</td><td>StrongLens</td></tr>\n",
       "<tr><td>OzDES_000003</td><td>36.0966666667</td><td>-4.72233333333</td><td>0.86767</td><td>3</td><td>StrongLens</td></tr>\n",
       "<tr><td>OzDES_000059</td><td>35.1156666667</td><td>-5.79022222222</td><td>0.84606</td><td>3</td><td>ClusterGalaxy</td></tr>\n",
       "<tr><td>OzDES_000060</td><td>35.3328333333</td><td>-6.82322222222</td><td>0.67718</td><td>4</td><td>ClusterGalaxy</td></tr>\n",
       "</table>"
      ],
      "text/plain": [
       "<Table length=5>\n",
       "  OzDES_ID   ...\n",
       "   str12     ...\n",
       "------------ ...\n",
       "OzDES_000001 ...\n",
       "OzDES_000002 ...\n",
       "OzDES_000003 ...\n",
       "OzDES_000059 ...\n",
       "OzDES_000060 ..."
      ]
     },
     "execution_count": 4,
     "metadata": {},
     "output_type": "execute_result"
    }
   ],
   "source": [
    "cat[:5]"
   ]
  },
  {
   "cell_type": "code",
   "execution_count": 5,
   "metadata": {
    "collapsed": true
   },
   "outputs": [
    {
     "name": "stdout",
     "output_type": "stream",
     "text": [
      "                                 type                                  counts\n",
      "---------------------------------------------------------------------- ------\n",
      "LRG                                                                      1595\n",
      "BrightGalaxy                                                              805\n",
      "ELG                                                                       530\n",
      "AGN_monitoring                                                            499\n",
      "ClusterGalaxy                                                             330\n",
      "AGN_reverberation                                                         315\n",
      "Photo-z                                                                   311\n",
      "BrightStar                                                                270\n",
      "RedMaGiC                                                                  256\n",
      "Tertiary                                                                  179\n",
      "FStar                                                                     127\n",
      "QSO_faint                                                                  23\n",
      "WhiteDwarf                                                                 16\n",
      "SpARCS                                                                     12\n",
      "Cooke_Host                                                                  9\n",
      "ClusterGalaxy,LRG                                                           7\n",
      "StrongLens                                                                  7\n",
      "AGN_monitoring,BrightStar                                                   5\n",
      "BrightStar,Tertiary                                                         5\n",
      "BrightGalaxy,Tertiary                                                       4\n",
      "ELG,Photo-z                                                                 2\n",
      "BrightGalaxy,BrightStar                                                     2\n",
      "ELG,LRG                                                                     2\n",
      "BrightStar,FStar                                                            2\n",
      "LRG,Photo-z                                                                 2\n",
      "BrightStar,Tertiary,WhiteDwarf                                              1\n",
      "ClusterGalaxy,ClusterGalaxy                                                 1\n",
      "AGN_reverberation,FStar                                                     1\n",
      "AGN_reverberation,ClusterGalaxy                                             1\n",
      "FStar,Tertiary                                                              1\n",
      "AGN_monitoring,Photo-z                                                      1\n",
      "ClusterGalaxy,Photo-z                                                       1\n",
      "AGN_monitoring,AGN_reverberation                                            1\n",
      "LRG,SpARCS                                                                  1\n"
     ]
    }
   ],
   "source": [
    "t = Table()\n",
    "t['type'], t['counts'] = np.unique(cat['types'], return_counts=True)\n",
    "t.sort('counts')\n",
    "t.reverse()\n",
    "t.pprint(max_lines=-1)"
   ]
  },
  {
   "cell_type": "code",
   "execution_count": 13,
   "metadata": {
    "collapsed": true
   },
   "outputs": [
    {
     "name": "stdout",
     "output_type": "stream",
     "text": [
      "0.723328324568\n",
      "                                 type                                  counts\n",
      "---------------------------------------------------------------------- ------\n",
      "LRG                                                                      1595\n",
      "BrightGalaxy                                                              805\n",
      "ELG                                                                       530\n",
      "ClusterGalaxy                                                             330\n",
      "Photo-z                                                                   311\n",
      "RedMaGiC                                                                  256\n",
      "ClusterGalaxy,LRG                                                           7\n",
      "BrightGalaxy,Tertiary                                                       4\n",
      "BrightGalaxy,BrightStar                                                     2\n",
      "LRG,Photo-z                                                                 2\n",
      "ELG,Photo-z                                                                 2\n",
      "ELG,LRG                                                                     2\n",
      "AGN_reverberation,ClusterGalaxy                                             1\n",
      "ClusterGalaxy,Photo-z                                                       1\n",
      "ClusterGalaxy,ClusterGalaxy                                                 1\n",
      "LRG,SpARCS                                                                  1\n",
      "AGN_monitoring,Photo-z                                                      1\n"
     ]
    }
   ],
   "source": [
    "types_to_keep = ['LRG', 'BrightGalaxy', 'ELG', 'Photo-z', 'RedMaGiC', 'ClusterGalaxy']\n",
    "\n",
    "mask_type = np.zeros(len(cat), dtype=bool)\n",
    "for type_str in types_to_keep:\n",
    "    mask_type |= np.array([aa.rfind(type_str) for aa in cat['types']])>=0\n",
    "    \n",
    "print(np.sum(mask_type)/len(cat))\n",
    "t = Table()\n",
    "t['type'], t['counts'] = np.unique(cat['types'][mask_type], return_counts=True)\n",
    "t.sort('counts')\n",
    "t.reverse()\n",
    "t.pprint(max_lines=-1)"
   ]
  },
  {
   "cell_type": "code",
   "execution_count": 14,
   "metadata": {},
   "outputs": [
    {
     "name": "stdout",
     "output_type": "stream",
     "text": [
      "31.9684447784\n"
     ]
    },
    {
     "data": {
      "image/png": "[encoded data removed]",
      "text/plain": [
       "<matplotlib.figure.Figure at 0x7f159414cc50>"
      ]
     },
     "metadata": {},
     "output_type": "display_data"
    },
    {
     "data": {
      "image/png": "[encoded data removed]",
      "text/plain": [
       "<matplotlib.figure.Figure at 0x7f1578fadd50>"
      ]
     },
     "metadata": {},
     "output_type": "display_data"
    }
   ],
   "source": [
    "mask = mask_type & (np.array(cat['flag'], dtype=float)==4) & (cat['z']>0)\n",
    "print(np.sum(mask)/len(cat)*100)\n",
    "plt.hist(cat['z'][mask], 100)\n",
    "plt.show()\n",
    "\n",
    "plt.hist(cat['z'][mask], 100, range=(-0.03, 1))\n",
    "plt.show()"
   ]
  },
  {
   "cell_type": "markdown",
   "metadata": {},
   "source": [
    "-------\n",
    "## 2dFLenS"
   ]
  },
  {
   "cell_type": "code",
   "execution_count": 59,
   "metadata": {},
   "outputs": [
    {
     "name": "stdout",
     "output_type": "stream",
     "text": [
      "18353\n"
     ]
    }
   ],
   "source": [
    "cat = Table.read(data_dir+'2dflens-match.fits')\n",
    "print(len(cat))"
   ]
  },
  {
   "cell_type": "code",
   "execution_count": 60,
   "metadata": {},
   "outputs": [
    {
     "data": {
      "text/html": [
       "&lt;Table length=5&gt;\n",
       "<table id=\"table140225143192080\" class=\"table-striped table-bordered table-condensed\">\n",
       "<thead><tr><th>R.A.</th><th>Dec.</th><th>z</th><th>qual</th><th>target</th><th>umag</th><th>gmag</th><th>rmag</th><th>imag</th><th>zmag</th><th>w1mag</th></tr></thead>\n",
       "<thead><tr><th>float64</th><th>float64</th><th>float64</th><th>int32</th><th>int32</th><th>float64</th><th>float64</th><th>float64</th><th>float64</th><th>float64</th><th>float64</th></tr></thead>\n",
       "<tr><td>59.370961</td><td>-12.083557</td><td>0.23735</td><td>4</td><td>6</td><td>20.24</td><td>19.24</td><td>18.74</td><td>18.53</td><td>18.23</td><td>98.97</td></tr>\n",
       "<tr><td>59.334533</td><td>-12.019238</td><td>0.37576</td><td>4</td><td>2</td><td>33.54</td><td>20.86</td><td>19.08</td><td>18.47</td><td>18.08</td><td>98.97</td></tr>\n",
       "<tr><td>59.07884</td><td>-12.007216</td><td>0.559</td><td>3</td><td>3</td><td>23.43</td><td>22.07</td><td>20.33</td><td>19.45</td><td>18.73</td><td>98.97</td></tr>\n",
       "<tr><td>59.454999</td><td>-11.970705</td><td>0.62831</td><td>3</td><td>3</td><td>21.18</td><td>20.73</td><td>20.01</td><td>19.29</td><td>19.11</td><td>98.97</td></tr>\n",
       "<tr><td>58.814815</td><td>-11.952672</td><td>0.15899</td><td>3</td><td>6</td><td>20.59</td><td>18.89</td><td>17.79</td><td>17.39</td><td>17.01</td><td>98.97</td></tr>\n",
       "</table>"
      ],
      "text/plain": [
       "<Table length=5>\n",
       "   R.A.      Dec.       z     qual target ...   rmag    imag    zmag   w1mag \n",
       " float64   float64   float64 int32 int32  ... float64 float64 float64 float64\n",
       "--------- ---------- ------- ----- ------ ... ------- ------- ------- -------\n",
       "59.370961 -12.083557 0.23735     4      6 ...   18.74   18.53   18.23   98.97\n",
       "59.334533 -12.019238 0.37576     4      2 ...   19.08   18.47   18.08   98.97\n",
       " 59.07884 -12.007216   0.559     3      3 ...   20.33   19.45   18.73   98.97\n",
       "59.454999 -11.970705 0.62831     3      3 ...   20.01   19.29   19.11   98.97\n",
       "58.814815 -11.952672 0.15899     3      6 ...   17.79   17.39   17.01   98.97"
      ]
     },
     "execution_count": 60,
     "metadata": {},
     "output_type": "execute_result"
    }
   ],
   "source": [
    "cat[:5]"
   ]
  },
  {
   "cell_type": "code",
   "execution_count": 61,
   "metadata": {},
   "outputs": [
    {
     "name": "stdout",
     "output_type": "stream",
     "text": [
      "57.4837901161\n"
     ]
    },
    {
     "data": {
      "image/png": "[encoded data removed]",
      "text/plain": [
       "<matplotlib.figure.Figure at 0x7f88b5e3fb10>"
      ]
     },
     "metadata": {},
     "output_type": "display_data"
    },
    {
     "data": {
      "image/png": "[encoded data removed]",
      "text/plain": [
       "<matplotlib.figure.Figure at 0x7f88f4984250>"
      ]
     },
     "metadata": {},
     "output_type": "display_data"
    }
   ],
   "source": [
    "mask = (cat['qual']==4) & (cat['z']>0)\n",
    "print(np.sum(mask)/len(cat)*100)\n",
    "plt.hist(cat['z'][mask], 100)\n",
    "plt.show()\n",
    "\n",
    "plt.hist(cat['z'][mask], 100, range=(-0.03, 1))\n",
    "plt.show()"
   ]
  },
  {
   "cell_type": "markdown",
   "metadata": {},
   "source": [
    "-------\n",
    "## VVDS"
   ]
  },
  {
   "cell_type": "code",
   "execution_count": 62,
   "metadata": {},
   "outputs": [
    {
     "name": "stdout",
     "output_type": "stream",
     "text": [
      "10856\n"
     ]
    }
   ],
   "source": [
    "cat = Table.read(data_dir+'cesam_vvds_spF02_DEEP_Full-match.fits')\n",
    "print(len(cat))"
   ]
  },
  {
   "cell_type": "code",
   "execution_count": 63,
   "metadata": {},
   "outputs": [
    {
     "data": {
      "text/html": [
       "&lt;Table length=5&gt;\n",
       "<table id=\"table140225143040080\" class=\"table-striped table-bordered table-condensed\">\n",
       "<thead><tr><th>NUM</th><th>ID-IAU</th><th>ALPHA</th><th>DELTA</th><th>MAGI</th><th>Z</th><th>ZFLAGS</th><th>MAG_U_CFH12K</th><th>MAGERR_AUTO_U_CFH12K</th><th>MAG_B_CFH12K</th><th>MAGERR_AUTO_B</th><th>MAG_V_CFH12K</th><th>MAGERR_AUTO_V</th><th>MAG_R_CFH12K</th><th>MAGERR_AUTO_R_CFH12K</th><th>MAG_I_CFH12K</th><th>MAGERR_AUTO_I_CFH12K</th><th>MAG_U_CFHTLS</th><th>MAGERR_AUTO_U</th><th>MAG_G_CFHTLS</th><th>MAGERR_AUTO_G</th><th>MAG_R_CFHTLS</th><th>MAGERR_AUTO_R</th><th>MAG_I_CFHTLS</th><th>MAGERR_AUTO_I</th><th>MAG_Z_CFHTLS</th><th>MAGERR_AUTO_Z</th><th>MAG_AUTO_U_UNCORR</th><th>MAG_AUTO_U_CORR</th><th>MAG_AUTO_ULOIANO</th><th>MAGERR_AUTO_ULOIANO</th><th>MAG_AUTO_B_UNCORR</th><th>MAG_AUTO_B_CORR</th><th>MAG_AUTO_V_UNCORR</th><th>MAG_AUTO_V_CORR</th><th>MAG_AUTO_R_UNCORR</th><th>MAG_AUTO_R_CORR</th><th>MAG_AUTO_I_UNCORR</th><th>MAG_AUTO_I_CORR</th><th>MAG1_APER_U</th><th>MAG1ERR_APER_U</th><th>MAG2_APER_U</th><th>MAG2ERR_APER_U</th><th>MAG1_APER_ULOIANO</th><th>MAG1ERR_APER_ULOIANO</th><th>MAG2_APER_ULOIANO</th><th>MAG2ERR_APER_ULOIANO</th><th>ISOAREA_IMAGE_U</th><th>THRESHOLD_U</th><th>MU_THRESHOLD_U</th><th>BACKGROUND_U</th><th>FLUX_MAX_U</th><th>MU_MAX_U</th><th>KRON_RADIUS_U</th><th>FLUX1_RADIUS_U</th><th>FLUX2_RADIUS_U</th><th>FLUX3_RADIUS_U</th><th>MAG_ISO_U</th><th>MAGERR_ISO_U</th><th>FLUX_ISO_U</th><th>FLUXERR_ISO_U</th><th>MAG_ISOCOR_U</th><th>MAGERR_ISOCOR_U</th><th>FLUX_ISOCOR_U</th><th>FLUXERR_ISOCOR_U</th><th>FLUX_AUTO_U</th><th>FLUXERR_AUTO_U</th><th>MAG_BEST_U</th><th>MAGERR_BEST_U</th><th>FLUX_BEST_U</th><th>FLUXERR_BEST_U</th><th>FLUX1_APER_U</th><th>FLUX1ERR_APER_U</th><th>FLUX2_APER_U</th><th>FLUX2ERR_APER_U</th><th>FLAGS_U</th><th>MAG1_APER_B</th><th>MAG1ERR_APER_B</th><th>MAG2_APER_B</th><th>MAG2ERR_APER_B</th><th>ISOAREA_IMAGE_B</th><th>THRESHOLD_B</th><th>MU_THRESHOLD_B</th><th>BACKGROUND_B</th><th>FLUX_MAX_B</th><th>MU_MAX_B</th><th>KRON_RADIUS_B</th><th>FLUX1_RADIUS_B</th><th>FLUX2_RADIUS_B</th><th>FLUX3_RADIUS_B</th><th>MAG_ISO_B</th><th>MAGERR_ISO_B</th><th>FLUX_ISO_B</th><th>FLUXERR_ISO_B</th><th>MAG_ISOCOR_B</th><th>MAGERR_ISOCOR_B</th><th>FLUX_ISOCOR_B</th><th>FLUXERR_ISOCOR_B</th><th>FLUX_AUTO_B</th><th>FLUXERR_AUTO_B</th><th>MAG_BEST_B</th><th>MAGERR_BEST_B</th><th>FLUX_BEST_B</th><th>FLUXERR_BEST_B</th><th>FLUX1_APER_B</th><th>FLUX1ERR_APER_B</th><th>FLUX2_APER_B</th><th>FLUX2ERR_APER_B</th><th>FLAGS_B</th><th>MAG_AUTO_J_WIRDS</th><th>MAGERR_AUTO_J_WIRDS</th><th>MAG_AUTO_H_WIRDS</th><th>MAGERR_AUTO_H_WIRDS</th><th>MAG_AUTO_K_WIRDS</th><th>MAGERR_AUTO_K_WIRDS</th><th>MAG_APER_J_WIRDS</th><th>MAGERR_APER_J_WIRDS</th><th>MAG_APER_H_WIRDS</th><th>MAGERR_APER_H_WIRDS</th><th>MAG_APER_K_WIRDS</th><th>MAGERR_APER_K_WIRDS</th><th>MAG_J_UKIDSS</th><th>MAGERR_J_UKIDSS</th><th>MAG_J_UKIDSS_CORR</th><th>MAG_K_UKIDSS</th><th>MAGERR_K_UKIDSS</th><th>MAG_K_UKIDSS_CORR</th><th>ZPHOT</th><th>ZPHOT_68_LOW</th><th>ZPHOT_68_HIGH</th><th>CHI2_GAL</th><th>ZPHOT_QSO</th><th>CHI2_QSO</th><th>CHI2_STAR</th><th>TYPE</th><th>CWW_MODEL</th><th>MAG_ABS_U_CFHTLS</th><th>MAG_ABS_G_CFHTLS</th><th>MAG_ABS_R_CFHTLS</th><th>MAG_ABS_I_CFHTLS</th><th>MAG_ABS_Z_CFHTLS</th><th>MAG_ABS_U_JKC</th><th>MAG_ABS_B_JKC</th><th>MAG_ABS_V_JKC</th><th>MAG_ABS_R_JKC</th><th>MAG_ABS_I_JKC</th><th>name1_4GHz</th><th>Fp14</th><th>Fp14er</th><th>Ft14</th><th>Ft14er</th><th>Fitmaj14</th><th>Fitmin14</th><th>PosAng14</th><th>Fp06</th><th>Fp06er</th><th>Ft06</th><th>Ft06er</th><th>Fitmaj06</th><th>Fitmin06</th><th>PosAng06</th><th>FLAG_GOOD_PZW</th><th>TSR</th><th>TSR_ERR_LOW</th><th>TSR_ERR_HIGH</th><th>W129</th><th>W129_ERR</th><th>SSR</th><th>SSR_ERR_LOW</th><th>SSR_ERR_HIGH</th><th>PSR</th><th>PSR_ERR_LOW</th><th>PSR_ERR_HIGH</th><th>TSR_ERR</th><th>AGE</th><th>E(B-V)</th><th>MFUV</th><th>MNUV</th><th>STELLAR_MASS</th><th>SFR</th><th>NBAND</th><th>A_FUV</th><th>CWW_TYPE</th><th>DELTA_5MPC</th><th>FLAG_D_5MPC</th><th>DELTA_8MPC</th><th>FLAG_D_8MPC</th><th>A_WORLD</th><th>ERRA_WORLD</th><th>B_WORLD</th><th>ERRB_WORLD</th><th>THETA_J2000</th><th>ERRTHETA_J2000</th><th>FLAG</th><th>ZMETHOD</th><th>SPMASK_OBS</th><th>QUAD</th><th>SLIT</th><th>OBJ</th><th>ID_GALEX</th><th>FUV_NCAT_MAG_COR1</th><th>FUV_NCAT_MAGERR_COR1</th><th>NUV_MAG_COR1</th><th>NUV_MAGERR_COR1</th><th>ID_SWIRE</th><th>FLUX_AP1_36</th><th>UNCF_AP1_36</th><th>FLUX_AP2_36</th><th>UNCF_AP2_36</th><th>FLUX_AP3_36</th><th>UNCF_AP3_36</th><th>FLUX_AP4_36</th><th>UNCF_AP4_36</th><th>FLUX_AP5_36</th><th>UNCF_AP5_36</th><th>FLUX_KR_36</th><th>UNCF_KR_36</th><th>MAG_KR_36</th><th>RAD_KR_36</th><th>FLUX_ISO_36</th><th>UNCF_ISO_36</th><th>AREA_ISO_36</th><th>FLUX_ISOCOR_36</th><th>UNCF_ISOCOR_36</th><th>STELL_36</th><th>A_36</th><th>B_36</th><th>THETA_36</th><th>FWHM_36</th><th>FLUX_AP1_45</th><th>UNCF_AP1_45</th><th>FLUX_AP2_45</th><th>UNCF_AP2_45</th><th>FLUX_AP3_45</th><th>UNCF_AP3_45</th><th>FLUX_AP4_45</th><th>UNCF_AP4_45</th><th>FLUX_AP5_45</th><th>UNCF_AP5_45</th><th>FLUX_KR_45</th><th>UNCF_KR_45</th><th>MAG_KR_45</th><th>RAD_KR_45</th><th>FLUX_ISO_45</th><th>UNCF_ISO_45</th><th>AREA_ISO_45</th><th>FLUX_ISOCOR_45</th><th>UNCF_ISOCOR_45</th><th>STELL_45</th><th>A_45</th><th>B_45</th><th>THETA_45</th><th>FWHM_45</th><th>FLUX_AP1_58</th><th>UNCF_AP1_58</th><th>FLUX_AP2_58</th><th>UNCF_AP2_58</th><th>FLUX_AP3_58</th><th>UNCF_AP3_58</th><th>FLUX_AP4_58</th><th>UNCF_AP4_58</th><th>FLUX_AP5_58</th><th>UNCF_AP5_58</th><th>FLUX_KR_58</th><th>UNCF_KR_58</th><th>MAG_KR_58</th><th>RAD_KR_58</th><th>FLUX_ISO_58</th><th>UNCF_ISO_58</th><th>AREA_ISO_58</th><th>FLUX_ISOCOR_58</th><th>UNCF_ISOCOR_58</th><th>STELL_58</th><th>A_58</th><th>B_58</th><th>THETA_58</th><th>FWHM_58</th><th>FLUX_AP1_80</th><th>UNCF_AP1_80</th><th>FLUX_AP2_80</th><th>UNCF_AP2_80</th><th>FLUX_AP3_80</th><th>UNCF_AP3_80</th><th>FLUX_AP4_80</th><th>UNCF_AP4_80</th><th>FLUX_AP5_80</th><th>UNCF_AP5_80</th><th>FLUX_KR_80</th><th>UNCF_KR_80</th><th>MAG_KR_80</th><th>RAD_KR_80</th><th>FLUX_ISO_80</th><th>UNCF_ISO_80</th><th>AREA_ISO_80</th><th>FLUX_ISOCOR_80</th><th>UNCF_ISOCOR_80</th><th>STELL_80</th><th>A_80</th><th>B_80</th><th>THETA_80</th><th>FWHM_80</th><th>FLUX_PRF_24</th><th>FLUX_PRF_70</th><th>FLUX_PRF_160</th><th>UNCF_PRF_24</th><th>UNCF_PRF_70</th><th>UNCF_PRF_160</th><th>STAT_24</th><th>STAT_70</th><th>STAT_160</th><th>SIG</th><th>D_SIG</th><th>SIGB</th><th>D_SIGB</th><th>EW_OII_3727</th><th>D_EW_OII_3727</th><th>F_OII_3727</th><th>D_F_OII_3727</th><th>EW_OIII_4959</th><th>D_EW_OIII_4959</th><th>F_OIII_4959</th><th>D_F_OIII_4959</th><th>EW_OIII_5007</th><th>D_EW_OIII_5007</th><th>F_OIII_5007</th><th>D_F_OIII_5007</th><th>EW_NII_6584</th><th>D_EW_NII_6584</th><th>F_NII_6584</th><th>D_F_NII_6584</th><th>EW_SII_6717</th><th>D_EW_SII_6717</th><th>F_SII_6717</th><th>D_F_SII_6717</th><th>EW_SII_6731</th><th>D_EW_SII_6731</th><th>F_SII_6731</th><th>D_F_SII_6731</th><th>EW_HALPHA</th><th>D_EW_HALPHA</th><th>F_HALPHA</th><th>D_F_HALPHA</th><th>EW_HBETA</th><th>D_EW_HBETA</th><th>F_HBETA</th><th>D_F_HBETA</th><th>EW_HGAMMA</th><th>D_EW_HGAMMA</th><th>F_HGAMMA</th><th>D_F_HGAMMA</th><th>EW_HDELTA</th><th>D_EW_HDELTA</th><th>F_HDELTA</th><th>D_F_HDELTA</th><th>EW_NEIII_3869</th><th>D_EW_NEIII_3869</th><th>F_NEIII_3869</th><th>D_F_NEIII_3869</th><th>R_HDA</th><th>D_R_HDA</th><th>R_MGB</th><th>D_R_MGB</th><th>R_D4</th><th>D_R_D4</th><th>R_D4N</th><th>D_R_D4N</th><th>HDA</th><th>D_HDA</th><th>MGB</th><th>D_MGB</th><th>D4</th><th>D_D4</th><th>D4N</th><th>D_D4N</th><th>HALPHA_ABS</th><th>HBETA_ABS</th><th>HGAMMA_ABS</th><th>HDELTA_ABS</th></tr></thead>\n",
       "<thead><tr><th>int64</th><th>str24</th><th>float64</th><th>float64</th><th>float64</th><th>float64</th><th>int64</th><th>float64</th><th>float64</th><th>float64</th><th>float64</th><th>float64</th><th>float64</th><th>float64</th><th>float64</th><th>float64</th><th>float64</th><th>float64</th><th>float64</th><th>float64</th><th>float64</th><th>float64</th><th>float64</th><th>float64</th><th>float64</th><th>float64</th><th>float64</th><th>float64</th><th>float64</th><th>float64</th><th>float64</th><th>float64</th><th>float64</th><th>float64</th><th>float64</th><th>float64</th><th>float64</th><th>float64</th><th>float64</th><th>float64</th><th>float64</th><th>float64</th><th>float64</th><th>float64</th><th>float64</th><th>float64</th><th>float64</th><th>float64</th><th>float64</th><th>float64</th><th>float64</th><th>float64</th><th>float64</th><th>float64</th><th>float64</th><th>float64</th><th>float64</th><th>float64</th><th>float64</th><th>float64</th><th>float64</th><th>float64</th><th>float64</th><th>float64</th><th>float64</th><th>float64</th><th>float64</th><th>float64</th><th>float64</th><th>float64</th><th>float64</th><th>float64</th><th>float64</th><th>float64</th><th>float64</th><th>float64</th><th>float64</th><th>float64</th><th>float64</th><th>float64</th><th>int64</th><th>float64</th><th>float64</th><th>float64</th><th>float64</th><th>float64</th><th>float64</th><th>float64</th><th>float64</th><th>float64</th><th>float64</th><th>float64</th><th>float64</th><th>float64</th><th>float64</th><th>float64</th><th>float64</th><th>float64</th><th>float64</th><th>float64</th><th>float64</th><th>float64</th><th>float64</th><th>float64</th><th>float64</th><th>float64</th><th>float64</th><th>float64</th><th>int64</th><th>float64</th><th>float64</th><th>float64</th><th>float64</th><th>float64</th><th>float64</th><th>float64</th><th>float64</th><th>float64</th><th>float64</th><th>float64</th><th>float64</th><th>float64</th><th>float64</th><th>float64</th><th>float64</th><th>float64</th><th>float64</th><th>float64</th><th>float64</th><th>float64</th><th>float64</th><th>float64</th><th>float64</th><th>float64</th><th>float64</th><th>float64</th><th>float64</th><th>float64</th><th>float64</th><th>float64</th><th>float64</th><th>float64</th><th>float64</th><th>float64</th><th>float64</th><th>float64</th><th>str28</th><th>float64</th><th>float64</th><th>float64</th><th>float64</th><th>float64</th><th>float64</th><th>float64</th><th>float64</th><th>float64</th><th>float64</th><th>float64</th><th>float64</th><th>float64</th><th>float64</th><th>float64</th><th>float64</th><th>float64</th><th>float64</th><th>float64</th><th>float64</th><th>float64</th><th>float64</th><th>float64</th><th>float64</th><th>float64</th><th>float64</th><th>float64</th><th>float64</th><th>float64</th><th>float64</th><th>float64</th><th>float64</th><th>float64</th><th>float64</th><th>float64</th><th>float64</th><th>float64</th><th>float64</th><th>float64</th><th>float64</th><th>float64</th><th>float64</th><th>float64</th><th>float64</th><th>float64</th><th>float64</th><th>int64</th><th>str1</th><th>str7</th><th>int64</th><th>int64</th><th>int64</th><th>float64</th><th>float64</th><th>float64</th><th>float64</th><th>float64</th><th>int64</th><th>float64</th><th>float64</th><th>float64</th><th>float64</th><th>float64</th><th>float64</th><th>float64</th><th>float64</th><th>float64</th><th>float64</th><th>float64</th><th>float64</th><th>float64</th><th>float64</th><th>float64</th><th>float64</th><th>float64</th><th>float64</th><th>float64</th><th>float64</th><th>float64</th><th>float64</th><th>float64</th><th>float64</th><th>float64</th><th>float64</th><th>float64</th><th>float64</th><th>float64</th><th>float64</th><th>float64</th><th>float64</th><th>float64</th><th>float64</th><th>float64</th><th>float64</th><th>float64</th><th>float64</th><th>float64</th><th>float64</th><th>float64</th><th>float64</th><th>float64</th><th>float64</th><th>float64</th><th>float64</th><th>float64</th><th>float64</th><th>float64</th><th>float64</th><th>float64</th><th>float64</th><th>float64</th><th>float64</th><th>float64</th><th>float64</th><th>float64</th><th>float64</th><th>float64</th><th>float64</th><th>float64</th><th>float64</th><th>float64</th><th>float64</th><th>float64</th><th>float64</th><th>float64</th><th>float64</th><th>float64</th><th>float64</th><th>float64</th><th>float64</th><th>float64</th><th>float64</th><th>float64</th><th>float64</th><th>float64</th><th>float64</th><th>float64</th><th>float64</th><th>float64</th><th>float64</th><th>float64</th><th>float64</th><th>float64</th><th>float64</th><th>float64</th><th>float64</th><th>float64</th><th>float64</th><th>float64</th><th>float64</th><th>float64</th><th>float64</th><th>float64</th><th>float64</th><th>float64</th><th>float64</th><th>float64</th><th>float64</th><th>float64</th><th>float64</th><th>float64</th><th>float64</th><th>float64</th><th>float64</th><th>float64</th><th>float64</th><th>float64</th><th>float64</th><th>float64</th><th>float64</th><th>float64</th><th>float64</th><th>float64</th><th>float64</th><th>float64</th><th>float64</th><th>float64</th><th>float64</th><th>float64</th><th>float64</th><th>float64</th><th>float64</th><th>float64</th><th>float64</th><th>float64</th><th>float64</th><th>float64</th><th>float64</th><th>float64</th><th>float64</th><th>float64</th><th>float64</th><th>float64</th><th>float64</th><th>float64</th><th>float64</th><th>float64</th><th>float64</th><th>float64</th><th>float64</th><th>float64</th><th>float64</th><th>float64</th><th>float64</th><th>float64</th><th>float64</th><th>float64</th><th>float64</th><th>float64</th><th>float64</th><th>float64</th><th>float64</th><th>float64</th><th>float64</th><th>float64</th><th>float64</th><th>float64</th><th>float64</th><th>float64</th><th>float64</th><th>float64</th><th>float64</th><th>float64</th><th>float64</th><th>float64</th><th>float64</th><th>float64</th><th>float64</th><th>float64</th><th>float64</th><th>float64</th></tr></thead>\n",
       "<tr><td>20086169</td><td>VVDS-J022546.07-044916.3</td><td>36.4419712</td><td>-4.8212023</td><td>23.6283</td><td>9.9999</td><td>20</td><td>-99.9</td><td>-99.9</td><td>24.393</td><td>0.0939</td><td>24.0879</td><td>0.0763</td><td>24.2771</td><td>0.1089</td><td>23.6283</td><td>0.1219</td><td>-99.9</td><td>-99.9</td><td>-99.9</td><td>-99.9</td><td>-99.9</td><td>-99.9</td><td>-99.9</td><td>-99.9</td><td>-99.9</td><td>-99.9</td><td>-99.9</td><td>-99.9</td><td>-99.99</td><td>-99.99</td><td>24.509</td><td>24.40221056</td><td>24.1779</td><td>24.0958532</td><td>24.3491</td><td>24.2842856</td><td>23.6803</td><td>23.63292376</td><td>-99.0</td><td>-99.0</td><td>-99.0</td><td>-99.0</td><td>-99.0</td><td>-99.0</td><td>-99.0</td><td>-99.0</td><td>0.0</td><td>0.0</td><td>0.0</td><td>0.0</td><td>-99.0</td><td>0.0</td><td>0.0</td><td>-99.0</td><td>-99.0</td><td>-99.0</td><td>-99.0</td><td>-99.0</td><td>-99.0</td><td>-99.0</td><td>-99.0</td><td>-99.0</td><td>-99.0</td><td>-99.0</td><td>-99.0</td><td>-99.0</td><td>-99.0</td><td>-99.0</td><td>-99.0</td><td>-99.0</td><td>-99.0</td><td>-99.0</td><td>-99.0</td><td>-99.0</td><td>0.0</td><td>24.5661</td><td>0.0951</td><td>24.249</td><td>0.0955</td><td>33</td><td>1.1</td><td>26.1053</td><td>-0.0330436</td><td>2.57322</td><td>25.1826</td><td>4.83</td><td>2.14</td><td>4.074</td><td>6.865</td><td>24.8806</td><td>0.1007</td><td>80.8628</td><td>7.49979</td><td>21.685</td><td>0.0153</td><td>1534.6</td><td>21.6804</td><td>126.705</td><td>10.9529</td><td>24.393</td><td>0.0939</td><td>126.705</td><td>10.9529</td><td>108.033</td><td>9.45821</td><td>144.676</td><td>12.7291</td><td>0</td><td>-99.9</td><td>-99.9</td><td>-99.9</td><td>-99.9</td><td>-99.9</td><td>-99.9</td><td>-99.9</td><td>-99.9</td><td>-99.9</td><td>-99.9</td><td>-99.9</td><td>-99.9</td><td>-99.9</td><td>-99.9</td><td>-99.9</td><td>-99.9</td><td>-99.9</td><td>-99.9</td><td>-99.9</td><td>-99.9</td><td>-99.9</td><td>-99.9</td><td>-99.9</td><td>-99.9</td><td>-99.9</td><td>-99.9</td><td>-99.9</td><td>-99.9</td><td>-99.9</td><td>-99.9</td><td>-99.9</td><td>-99.9</td><td>-99.9</td><td>-99.9</td><td>-99.9</td><td>-99.9</td><td>-99.9</td><td>-99.9</td><td>-99.9</td><td>-99.9</td><td>-99.9</td><td>-99.9</td><td>-99.9</td><td>-99.9</td><td>-99.9</td><td>-99.9</td><td>-99.9</td><td>-99.9</td><td>-99.9</td><td>-99.9</td><td>-99.9</td><td>-99.9</td><td>0.0</td><td>0.223487</td><td>0.006941</td><td>0.006941</td><td>1.0</td><td>0.0</td><td>1.0</td><td>0.0</td><td>0.0</td><td>-99.9</td><td>-99.9</td><td>-99.9</td><td>-99.9</td><td>321031000.0</td><td>0.1</td><td>-19.956</td><td>-20.273</td><td>9.94557</td><td>0.733276</td><td>11.0</td><td>1.157</td><td>47.0</td><td>-99.9</td><td>-99.9</td><td>-99.9</td><td>-99.9</td><td>0.00013605</td><td>6.6883e-06</td><td>0.000106327</td><td>5.2583e-06</td><td>-62.87</td><td>-63.1</td><td>10110</td><td>M</td><td>F02P016</td><td>4</td><td>34</td><td>2</td><td>-99.9</td><td>-99.9</td><td>-99.9</td><td>-99.9</td><td>-99.9</td><td>9999999</td><td>9.12e-31</td><td>9.12e-31</td><td>9.12e-31</td><td>9.12e-31</td><td>9.12e-31</td><td>9.12e-31</td><td>9.12e-31</td><td>9.12e-31</td><td>9.12e-31</td><td>9.12e-31</td><td>9.12e-31</td><td>9.12e-31</td><td>9.12e-31</td><td>9.12e-31</td><td>9.12e-31</td><td>9.12e-31</td><td>9.12e-31</td><td>9.12e-31</td><td>9.12e-31</td><td>9.12e-31</td><td>9.12e-31</td><td>9.12e-31</td><td>9.12e-31</td><td>9.12e-31</td><td>9.12e-31</td><td>9.12e-31</td><td>9.12e-31</td><td>9.12e-31</td><td>9.12e-31</td><td>9.12e-31</td><td>9.12e-31</td><td>9.12e-31</td><td>9.12e-31</td><td>9.12e-31</td><td>9.12e-31</td><td>9.12e-31</td><td>9.12e-31</td><td>9.12e-31</td><td>9.12e-31</td><td>9.12e-31</td><td>9.12e-31</td><td>9.12e-31</td><td>9.12e-31</td><td>9.12e-31</td><td>9.12e-31</td><td>-99.9</td><td>-99.9</td><td>9.12e-31</td><td>9.12e-31</td><td>9.12e-31</td><td>9.12e-31</td><td>9.12e-31</td><td>9.12e-31</td><td>9.12e-31</td><td>9.12e-31</td><td>9.12e-31</td><td>9.12e-31</td><td>9.12e-31</td><td>9.12e-31</td><td>9.12e-31</td><td>9.12e-31</td><td>9.12e-31</td><td>9.12e-31</td><td>9.12e-31</td><td>9.12e-31</td><td>9.12e-31</td><td>9.12e-31</td><td>9.12e-31</td><td>9.12e-31</td><td>9.12e-31</td><td>9.12e-31</td><td>9.12e-31</td><td>9.12e-31</td><td>9.12e-31</td><td>9.12e-31</td><td>9.12e-31</td><td>9.12e-31</td><td>9.12e-31</td><td>9.12e-31</td><td>9.12e-31</td><td>9.12e-31</td><td>9.12e-31</td><td>9.12e-31</td><td>9.12e-31</td><td>9.12e-31</td><td>9.12e-31</td><td>9.12e-31</td><td>9.12e-31</td><td>9.12e-31</td><td>9.12e-31</td><td>9.12e-31</td><td>9.12e-31</td><td>9.12e-31</td><td>9.12e-31</td><td>9.12e-31</td><td>9.12e-31</td><td>-99.9</td><td>-99.9</td><td>-99.9</td><td>-99.9</td><td>-99.9</td><td>-99.9</td><td>-99.9</td><td>-99.9</td><td>-99.9</td><td>0.0</td><td>0.0</td><td>0.0</td><td>0.0</td><td>0.0</td><td>-9.99</td><td>0.0</td><td>-9.99</td><td>0.0</td><td>-9.99</td><td>0.0</td><td>-9.99</td><td>0.0</td><td>-9.99</td><td>0.0</td><td>-9.99</td><td>0.0</td><td>-9.99</td><td>0.0</td><td>-9.99</td><td>0.0</td><td>-9.99</td><td>0.0</td><td>-9.99</td><td>0.0</td><td>-9.99</td><td>0.0</td><td>-9.99</td><td>0.0</td><td>-9.99</td><td>0.0</td><td>-9.99</td><td>0.0</td><td>-9.99</td><td>0.0</td><td>-9.99</td><td>0.0</td><td>-9.99</td><td>0.0</td><td>-9.99</td><td>0.0</td><td>-9.99</td><td>0.0</td><td>-9.99</td><td>0.0</td><td>-9.99</td><td>0.0</td><td>-9.99</td><td>0.0</td><td>-9.999</td><td>0.0</td><td>-9.999</td><td>0.0</td><td>-9.999</td><td>0.0</td><td>-9.999</td><td>0.0</td><td>-9.999</td><td>0.0</td><td>-9.999</td><td>0.0</td><td>-9.999</td><td>0.0</td><td>-9.999</td><td>0.0</td><td>0.0</td><td>0.0</td><td>0.0</td></tr>\n",
       "<tr><td>20086348</td><td>VVDS-J022643.08-044915.6</td><td>36.6795128</td><td>-4.8210224</td><td>22.9894</td><td>0.397</td><td>3</td><td>-99.9</td><td>-99.9</td><td>24.3757</td><td>0.0956</td><td>23.6235</td><td>0.0613</td><td>23.3154</td><td>0.0552</td><td>22.9894</td><td>0.0532</td><td>24.478138</td><td>0.023</td><td>23.906081</td><td>0.01</td><td>23.26089</td><td>0.01</td><td>22.902366</td><td>0.01</td><td>22.625703</td><td>0.0136</td><td>-99.9</td><td>-99.9</td><td>-99.99</td><td>-99.99</td><td>24.4917</td><td>24.39404496</td><td>23.7135</td><td>23.6384712</td><td>23.3874</td><td>23.3281296</td><td>23.0414</td><td>22.99807616</td><td>-99.0</td><td>-99.0</td><td>-99.0</td><td>-99.0</td><td>-99.0</td><td>-99.0</td><td>-99.0</td><td>-99.0</td><td>0.0</td><td>0.0</td><td>0.0</td><td>0.0</td><td>-99.0</td><td>0.0</td><td>0.0</td><td>-99.0</td><td>-99.0</td><td>-99.0</td><td>-99.0</td><td>-99.0</td><td>-99.0</td><td>-99.0</td><td>-99.0</td><td>-99.0</td><td>-99.0</td><td>-99.0</td><td>-99.0</td><td>-99.0</td><td>-99.0</td><td>-99.0</td><td>-99.0</td><td>-99.0</td><td>-99.0</td><td>-99.0</td><td>-99.0</td><td>-99.0</td><td>0.0</td><td>24.4569</td><td>0.0966</td><td>24.2091</td><td>0.1023</td><td>40</td><td>1.1</td><td>26.1053</td><td>-0.00831428</td><td>2.77138</td><td>25.102</td><td>3.97</td><td>1.858</td><td>3.376</td><td>5.444</td><td>24.5519</td><td>0.0938</td><td>109.453</td><td>9.44886</td><td>21.3563</td><td>0.0135</td><td>2077.18</td><td>25.7668</td><td>128.742</td><td>11.3353</td><td>21.3563</td><td>0.0135</td><td>2077.18</td><td>25.7668</td><td>119.467</td><td>10.6314</td><td>150.088</td><td>14.1413</td><td>1</td><td>22.875238</td><td>0.0857</td><td>22.24597</td><td>0.054</td><td>22.440192</td><td>0.0745</td><td>22.943</td><td>0.046</td><td>22.656</td><td>0.04</td><td>22.568</td><td>0.042</td><td>22.26263</td><td>0.181763</td><td>22.2419324</td><td>23.324686</td><td>0.383285</td><td>23.31617176</td><td>-99.9</td><td>-99.9</td><td>-99.9</td><td>5.8006</td><td>-99.9</td><td>-99.9</td><td>512.892</td><td>-99.0</td><td>-99.9</td><td>-99.9</td><td>-99.9</td><td>-99.9</td><td>-99.9</td><td>-99.9</td><td>-99.9</td><td>-99.9</td><td>-99.9</td><td>-99.9</td><td>-99.9</td><td>-99.9</td><td>-99.9</td><td>-99.9</td><td>-99.9</td><td>-99.9</td><td>-99.9</td><td>-99.9</td><td>-99.9</td><td>-99.9</td><td>-99.9</td><td>-99.9</td><td>-99.9</td><td>-99.9</td><td>-99.9</td><td>-99.9</td><td>1.0</td><td>0.316879</td><td>0.00363</td><td>0.00363</td><td>1.0</td><td>0.0</td><td>0.925026</td><td>0.006899</td><td>0.006899</td><td>-99.9</td><td>-99.9</td><td>-99.9</td><td>-99.9</td><td>4750000000.0</td><td>0.1</td><td>-16.663</td><td>-16.75</td><td>8.98521</td><td>-0.479167</td><td>11.0</td><td>1.157</td><td>41.0</td><td>-0.08</td><td>0.4025</td><td>-0.227</td><td>0.2569</td><td>0.000137077</td><td>4.029e-06</td><td>0.000116428</td><td>3.4339e-06</td><td>79.98</td><td>79.9</td><td>10110</td><td>V</td><td>F02P018</td><td>4</td><td>62</td><td>1</td><td>-99.9</td><td>-99.9</td><td>-99.9</td><td>-99.9</td><td>-99.9</td><td>9999999</td><td>9.12e-31</td><td>9.12e-31</td><td>9.12e-31</td><td>9.12e-31</td><td>9.12e-31</td><td>9.12e-31</td><td>9.12e-31</td><td>9.12e-31</td><td>9.12e-31</td><td>9.12e-31</td><td>9.12e-31</td><td>9.12e-31</td><td>9.12e-31</td><td>9.12e-31</td><td>9.12e-31</td><td>9.12e-31</td><td>9.12e-31</td><td>9.12e-31</td><td>9.12e-31</td><td>9.12e-31</td><td>9.12e-31</td><td>9.12e-31</td><td>9.12e-31</td><td>9.12e-31</td><td>9.12e-31</td><td>9.12e-31</td><td>9.12e-31</td><td>9.12e-31</td><td>9.12e-31</td><td>9.12e-31</td><td>9.12e-31</td><td>9.12e-31</td><td>9.12e-31</td><td>9.12e-31</td><td>9.12e-31</td><td>9.12e-31</td><td>9.12e-31</td><td>9.12e-31</td><td>9.12e-31</td><td>9.12e-31</td><td>9.12e-31</td><td>9.12e-31</td><td>9.12e-31</td><td>9.12e-31</td><td>9.12e-31</td><td>-99.9</td><td>-99.9</td><td>9.12e-31</td><td>9.12e-31</td><td>9.12e-31</td><td>9.12e-31</td><td>9.12e-31</td><td>9.12e-31</td><td>9.12e-31</td><td>9.12e-31</td><td>9.12e-31</td><td>9.12e-31</td><td>9.12e-31</td><td>9.12e-31</td><td>9.12e-31</td><td>9.12e-31</td><td>9.12e-31</td><td>9.12e-31</td><td>9.12e-31</td><td>9.12e-31</td><td>9.12e-31</td><td>9.12e-31</td><td>9.12e-31</td><td>9.12e-31</td><td>9.12e-31</td><td>9.12e-31</td><td>9.12e-31</td><td>9.12e-31</td><td>9.12e-31</td><td>9.12e-31</td><td>9.12e-31</td><td>9.12e-31</td><td>9.12e-31</td><td>9.12e-31</td><td>9.12e-31</td><td>9.12e-31</td><td>9.12e-31</td><td>9.12e-31</td><td>9.12e-31</td><td>9.12e-31</td><td>9.12e-31</td><td>9.12e-31</td><td>9.12e-31</td><td>9.12e-31</td><td>9.12e-31</td><td>9.12e-31</td><td>9.12e-31</td><td>9.12e-31</td><td>9.12e-31</td><td>9.12e-31</td><td>9.12e-31</td><td>-99.9</td><td>-99.9</td><td>-99.9</td><td>-99.9</td><td>-99.9</td><td>-99.9</td><td>-99.9</td><td>-99.9</td><td>-99.9</td><td>319.2</td><td>41.3</td><td>319.2</td><td>0.0</td><td>0.0</td><td>-9.99</td><td>0.0</td><td>-9.99</td><td>-8.35</td><td>2.63</td><td>1.04</td><td>0.32</td><td>-14.49</td><td>2.7</td><td>1.73</td><td>0.31</td><td>0.0</td><td>-9.99</td><td>0.0</td><td>-9.99</td><td>0.0</td><td>-9.99</td><td>0.0</td><td>-9.99</td><td>0.0</td><td>-9.99</td><td>0.0</td><td>-9.99</td><td>-55.12</td><td>8.53</td><td>4.03</td><td>0.53</td><td>-1.38</td><td>3.01</td><td>0.19</td><td>0.42</td><td>-1.9</td><td>2.48</td><td>0.26</td><td>0.33</td><td>-1.05</td><td>3.22</td><td>0.16</td><td>0.5</td><td>0.0</td><td>-9.99</td><td>0.0</td><td>-9.99</td><td>-0.821</td><td>6.944</td><td>0.0</td><td>-9.999</td><td>0.0</td><td>-9.999</td><td>0.0</td><td>-9.999</td><td>0.319</td><td>6.844</td><td>0.0</td><td>-9.999</td><td>0.0</td><td>-9.999</td><td>0.0</td><td>-9.999</td><td>3.08</td><td>0.91</td><td>-0.64</td><td>3.9</td></tr>\n",
       "<tr><td>20086397</td><td>VVDS-J022545.30-044913.1</td><td>36.4387748</td><td>-4.8203333</td><td>23.7798</td><td>1.1714</td><td>3</td><td>-99.9</td><td>-99.9</td><td>25.5383</td><td>0.1743</td><td>25.0745</td><td>0.1297</td><td>25.2619</td><td>0.1916</td><td>23.7798</td><td>0.1057</td><td>25.468934</td><td>0.0665</td><td>25.072756</td><td>0.0328</td><td>24.537423</td><td>0.0265</td><td>23.895414</td><td>0.0206</td><td>23.104169</td><td>0.0258</td><td>-99.9</td><td>-99.9</td><td>-99.99</td><td>-99.99</td><td>25.6543</td><td>25.54755208</td><td>25.1645</td><td>25.0824851</td><td>25.3339</td><td>25.2691108</td><td>23.8318</td><td>23.78444218</td><td>-99.0</td><td>-99.0</td><td>-99.0</td><td>-99.0</td><td>-99.0</td><td>-99.0</td><td>-99.0</td><td>-99.0</td><td>0.0</td><td>0.0</td><td>0.0</td><td>0.0</td><td>-99.0</td><td>0.0</td><td>0.0</td><td>-99.0</td><td>-99.0</td><td>-99.0</td><td>-99.0</td><td>-99.0</td><td>-99.0</td><td>-99.0</td><td>-99.0</td><td>-99.0</td><td>-99.0</td><td>-99.0</td><td>-99.0</td><td>-99.0</td><td>-99.0</td><td>-99.0</td><td>-99.0</td><td>-99.0</td><td>-99.0</td><td>-99.0</td><td>-99.0</td><td>-99.0</td><td>0.0</td><td>25.5403</td><td>0.1805</td><td>25.4171</td><td>0.2345</td><td>5</td><td>1.1</td><td>26.1053</td><td>-0.0382095</td><td>1.74637</td><td>25.6034</td><td>0.0</td><td>1.674</td><td>3.275</td><td>5.248</td><td>26.0908</td><td>0.1852</td><td>26.5268</td><td>4.5225</td><td>22.8952</td><td>0.0244</td><td>503.421</td><td>11.3046</td><td>44.1257</td><td>7.08034</td><td>25.5383</td><td>0.1743</td><td>44.1257</td><td>7.08034</td><td>44.0438</td><td>7.32051</td><td>49.3344</td><td>10.6534</td><td>0</td><td>22.473532</td><td>0.1136</td><td>21.93612</td><td>0.0486</td><td>21.46629</td><td>0.03</td><td>23.113</td><td>0.097</td><td>22.261</td><td>0.031</td><td>21.753</td><td>0.019</td><td>22.863545</td><td>0.247706</td><td>22.8409202</td><td>21.645543</td><td>0.104252</td><td>21.63623598</td><td>1.1542</td><td>-99.9</td><td>-99.9</td><td>8.8176</td><td>-99.9</td><td>-99.9</td><td>412.741</td><td>0.0</td><td>-99.9</td><td>-99.9</td><td>-99.9</td><td>-99.9</td><td>-99.9</td><td>-99.9</td><td>-99.9</td><td>-99.9</td><td>-99.9</td><td>-99.9</td><td>-99.9</td><td>-99.9</td><td>-99.9</td><td>-99.9</td><td>-99.9</td><td>-99.9</td><td>-99.9</td><td>-99.9</td><td>-99.9</td><td>-99.9</td><td>-99.9</td><td>-99.9</td><td>-99.9</td><td>-99.9</td><td>-99.9</td><td>-99.9</td><td>1.0</td><td>0.285195</td><td>0.00397</td><td>0.00397</td><td>1.0</td><td>0.0</td><td>0.875241</td><td>0.007518</td><td>0.007518</td><td>-99.9</td><td>-99.9</td><td>-99.9</td><td>-99.9</td><td>286119000.0</td><td>0.4</td><td>-17.772</td><td>-18.646</td><td>10.1558</td><td>1.09786</td><td>11.0</td><td>3.068</td><td>24.0</td><td>0.6</td><td>0.5132</td><td>0.636</td><td>0.443</td><td>9.8683e-05</td><td>7.6091e-06</td><td>8.7023e-05</td><td>6.7346e-06</td><td>41.58</td><td>40.3</td><td>10110</td><td>K</td><td>F02P016</td><td>4</td><td>31</td><td>1</td><td>-99.9</td><td>-99.9</td><td>-99.9</td><td>-99.9</td><td>-99.9</td><td>36818</td><td>9.12e-31</td><td>9.12e-31</td><td>9.12e-31</td><td>9.12e-31</td><td>9.12e-31</td><td>9.12e-31</td><td>9.12e-31</td><td>9.12e-31</td><td>9.12e-31</td><td>9.12e-31</td><td>9.12e-31</td><td>9.12e-31</td><td>9.12e-31</td><td>9.12e-31</td><td>9.12e-31</td><td>9.12e-31</td><td>9.12e-31</td><td>9.12e-31</td><td>9.12e-31</td><td>9.12e-31</td><td>9.12e-31</td><td>9.12e-31</td><td>9.12e-31</td><td>9.12e-31</td><td>21.94</td><td>1.25</td><td>22.75</td><td>1.22</td><td>22.57</td><td>1.38</td><td>25.41</td><td>1.8</td><td>30.98</td><td>2.38</td><td>27.11</td><td>1.92</td><td>17.251</td><td>4.88</td><td>14.61</td><td>0.74</td><td>22.0</td><td>22.37</td><td>2.01</td><td>0.1</td><td>0.833</td><td>-99.9</td><td>-99.9</td><td>2.812</td><td>9.12e-31</td><td>9.12e-31</td><td>9.12e-31</td><td>9.12e-31</td><td>9.12e-31</td><td>9.12e-31</td><td>9.12e-31</td><td>9.12e-31</td><td>9.12e-31</td><td>9.12e-31</td><td>9.12e-31</td><td>9.12e-31</td><td>9.12e-31</td><td>9.12e-31</td><td>9.12e-31</td><td>9.12e-31</td><td>9.12e-31</td><td>9.12e-31</td><td>9.12e-31</td><td>9.12e-31</td><td>9.12e-31</td><td>9.12e-31</td><td>9.12e-31</td><td>9.12e-31</td><td>9.12e-31</td><td>9.12e-31</td><td>9.12e-31</td><td>9.12e-31</td><td>9.12e-31</td><td>9.12e-31</td><td>9.12e-31</td><td>9.12e-31</td><td>9.12e-31</td><td>9.12e-31</td><td>9.12e-31</td><td>9.12e-31</td><td>9.12e-31</td><td>9.12e-31</td><td>9.12e-31</td><td>9.12e-31</td><td>9.12e-31</td><td>9.12e-31</td><td>9.12e-31</td><td>9.12e-31</td><td>9.12e-31</td><td>9.12e-31</td><td>9.12e-31</td><td>9.12e-31</td><td>9.12e-31</td><td>9.12e-31</td><td>9.12e-31</td><td>9.12e-31</td><td>9.12e-31</td><td>9.12e-31</td><td>9.12e-31</td><td>9.12e-31</td><td>9.12e-31</td><td>481.9</td><td>111.5</td><td>481.9</td><td>0.0</td><td>-42.25</td><td>5.37</td><td>2.32</td><td>0.25</td><td>0.0</td><td>-9.99</td><td>0.0</td><td>-9.99</td><td>0.0</td><td>-9.99</td><td>0.0</td><td>-9.99</td><td>0.0</td><td>-9.99</td><td>0.0</td><td>-9.99</td><td>0.0</td><td>-9.99</td><td>0.0</td><td>-9.99</td><td>0.0</td><td>-9.99</td><td>0.0</td><td>-9.99</td><td>0.0</td><td>-9.99</td><td>0.0</td><td>-9.99</td><td>0.0</td><td>-9.99</td><td>0.0</td><td>-9.99</td><td>0.0</td><td>-9.99</td><td>0.0</td><td>-9.99</td><td>-6.36</td><td>8.64</td><td>0.38</td><td>0.51</td><td>0.0</td><td>-9.99</td><td>0.0</td><td>-9.99</td><td>1.768</td><td>13.905</td><td>0.0</td><td>-9.999</td><td>1.18</td><td>0.137</td><td>1.121</td><td>0.23</td><td>7.868</td><td>12.327</td><td>0.0</td><td>-9.999</td><td>1.262</td><td>0.156</td><td>1.164</td><td>0.251</td><td>0.0</td><td>0.0</td><td>3.38</td><td>5.43</td></tr>\n",
       "<tr><td>20086400</td><td>VVDS-J022810.50-044912.9</td><td>37.0437708</td><td>-4.820269</td><td>23.7313</td><td>0.9911</td><td>3</td><td>-99.9</td><td>-99.9</td><td>24.9325</td><td>0.1392</td><td>24.715</td><td>0.1333</td><td>24.5805</td><td>0.1423</td><td>23.7313</td><td>0.0915</td><td>-99.9</td><td>-99.9</td><td>-99.9</td><td>-99.9</td><td>-99.9</td><td>-99.9</td><td>-99.9</td><td>-99.9</td><td>-99.9</td><td>-99.9</td><td>-99.9</td><td>-99.9</td><td>-99.99</td><td>-99.99</td><td>25.0485</td><td>24.91131792</td><td>24.805</td><td>24.6996024</td><td>24.6525</td><td>24.5692392</td><td>23.7833</td><td>23.72244032</td><td>-99.0</td><td>-99.0</td><td>-99.0</td><td>-99.0</td><td>-99.0</td><td>-99.0</td><td>-99.0</td><td>-99.0</td><td>0.0</td><td>0.0</td><td>0.0</td><td>0.0</td><td>-99.0</td><td>0.0</td><td>0.0</td><td>-99.0</td><td>-99.0</td><td>-99.0</td><td>-99.0</td><td>-99.0</td><td>-99.0</td><td>-99.0</td><td>-99.0</td><td>-99.0</td><td>-99.0</td><td>-99.0</td><td>-99.0</td><td>-99.0</td><td>-99.0</td><td>-99.0</td><td>-99.0</td><td>-99.0</td><td>-99.0</td><td>-99.0</td><td>-99.0</td><td>-99.0</td><td>0.0</td><td>24.9316</td><td>0.1345</td><td>25.1597</td><td>0.2246</td><td>17</td><td>1.1</td><td>26.1053</td><td>-0.011072</td><td>2.13437</td><td>25.3856</td><td>4.48</td><td>1.719</td><td>3.207</td><td>5.049</td><td>25.3761</td><td>0.1431</td><td>51.2353</td><td>6.75278</td><td>22.1805</td><td>0.0202</td><td>972.336</td><td>18.0457</td><td>77.0909</td><td>9.88153</td><td>22.1805</td><td>0.0202</td><td>972.336</td><td>18.0457</td><td>77.155</td><td>9.55616</td><td>62.5324</td><td>12.9305</td><td>3</td><td>-99.9</td><td>-99.9</td><td>-99.9</td><td>-99.9</td><td>-99.9</td><td>-99.9</td><td>-99.9</td><td>-99.9</td><td>-99.9</td><td>-99.9</td><td>-99.9</td><td>-99.9</td><td>-99.9</td><td>-99.9</td><td>-99.9</td><td>-99.9</td><td>-99.9</td><td>-99.9</td><td>-99.9</td><td>-99.9</td><td>-99.9</td><td>-99.9</td><td>-99.9</td><td>-99.9</td><td>-99.9</td><td>-99.9</td><td>-99.9</td><td>-99.9</td><td>-99.9</td><td>-99.9</td><td>-99.9</td><td>-99.9</td><td>-99.9</td><td>-99.9</td><td>-99.9</td><td>-99.9</td><td>-99.9</td><td>-99.9</td><td>-99.9</td><td>-99.9</td><td>-99.9</td><td>-99.9</td><td>-99.9</td><td>-99.9</td><td>-99.9</td><td>-99.9</td><td>-99.9</td><td>-99.9</td><td>-99.9</td><td>-99.9</td><td>-99.9</td><td>-99.9</td><td>0.0</td><td>0.285195</td><td>0.00397</td><td>0.00397</td><td>1.0</td><td>0.0</td><td>0.91372</td><td>0.005526</td><td>0.005526</td><td>-99.9</td><td>-99.9</td><td>-99.9</td><td>-99.9</td><td>127804000.0</td><td>0.4</td><td>-18.126</td><td>-19.106</td><td>9.36252</td><td>1.36619</td><td>8.0</td><td>3.068</td><td>43.0</td><td>-99.9</td><td>-99.9</td><td>-99.9</td><td>-99.9</td><td>0.000118575</td><td>7.1139e-06</td><td>9.1967e-05</td><td>5.5327e-06</td><td>51.71</td><td>51.8</td><td>10110</td><td>E</td><td>F02P021</td><td>4</td><td>87</td><td>1</td><td>-99.9</td><td>-99.9</td><td>-99.9</td><td>-99.9</td><td>-99.9</td><td>0</td><td>-99.9</td><td>-99.9</td><td>-99.9</td><td>-99.9</td><td>-99.9</td><td>-99.9</td><td>-99.9</td><td>-99.9</td><td>-99.9</td><td>-99.9</td><td>-99.9</td><td>-99.9</td><td>-99.9</td><td>-99.9</td><td>-99.9</td><td>-99.9</td><td>-99.9</td><td>-99.9</td><td>-99.9</td><td>-99.9</td><td>-99.9</td><td>-99.9</td><td>-99.9</td><td>-99.9</td><td>-99.9</td><td>-99.9</td><td>-99.9</td><td>-99.9</td><td>-99.9</td><td>-99.9</td><td>-99.9</td><td>-99.9</td><td>-99.9</td><td>-99.9</td><td>-99.9</td><td>-99.9</td><td>-99.9</td><td>-99.9</td><td>-99.9</td><td>-99.9</td><td>-99.9</td><td>-99.9</td><td>-99.9</td><td>-99.9</td><td>-99.9</td><td>-99.9</td><td>-99.9</td><td>-99.9</td><td>-99.9</td><td>-99.9</td><td>-99.9</td><td>-99.9</td><td>-99.9</td><td>-99.9</td><td>-99.9</td><td>-99.9</td><td>-99.9</td><td>-99.9</td><td>-99.9</td><td>-99.9</td><td>-99.9</td><td>-99.9</td><td>-99.9</td><td>-99.9</td><td>-99.9</td><td>-99.9</td><td>-99.9</td><td>-99.9</td><td>-99.9</td><td>-99.9</td><td>-99.9</td><td>-99.9</td><td>-99.9</td><td>-99.9</td><td>-99.9</td><td>-99.9</td><td>-99.9</td><td>-99.9</td><td>-99.9</td><td>-99.9</td><td>-99.9</td><td>-99.9</td><td>-99.9</td><td>-99.9</td><td>-99.9</td><td>-99.9</td><td>-99.9</td><td>-99.9</td><td>-99.9</td><td>-99.9</td><td>-99.9</td><td>-99.9</td><td>-99.9</td><td>-99.9</td><td>-99.9</td><td>-99.9</td><td>-99.9</td><td>-99.9</td><td>-99.9</td><td>-99.9</td><td>-99.9</td><td>-99.9</td><td>-99.9</td><td>-99.9</td><td>-99.9</td><td>515.1</td><td>155.7</td><td>515.1</td><td>0.0</td><td>-46.7</td><td>8.09</td><td>1.09</td><td>0.17</td><td>0.0</td><td>-9.99</td><td>0.0</td><td>-9.99</td><td>0.0</td><td>-9.99</td><td>0.0</td><td>-9.99</td><td>0.0</td><td>-9.99</td><td>0.0</td><td>-9.99</td><td>0.0</td><td>-9.99</td><td>0.0</td><td>-9.99</td><td>0.0</td><td>-9.99</td><td>0.0</td><td>-9.99</td><td>0.0</td><td>-9.99</td><td>0.0</td><td>-9.99</td><td>0.0</td><td>-9.99</td><td>0.0</td><td>-9.99</td><td>0.0</td><td>-9.99</td><td>0.0</td><td>-9.99</td><td>-11.56</td><td>7.5</td><td>0.3</td><td>0.19</td><td>0.0</td><td>-9.99</td><td>0.0</td><td>-9.99</td><td>0.648</td><td>6.7</td><td>0.0</td><td>-9.999</td><td>1.154</td><td>0.109</td><td>0.997</td><td>0.143</td><td>9.709</td><td>5.806</td><td>0.0</td><td>-9.999</td><td>1.123</td><td>0.11</td><td>0.913</td><td>0.134</td><td>0.0</td><td>0.0</td><td>5.64</td><td>3.84</td></tr>\n",
       "<tr><td>20086422</td><td>VVDS-J022613.81-044914.2</td><td>36.5575475</td><td>-4.8206121</td><td>23.4669</td><td>1.138</td><td>2</td><td>-99.9</td><td>-99.9</td><td>24.3648</td><td>0.0987</td><td>24.0993</td><td>0.0875</td><td>24.1967</td><td>0.1099</td><td>23.4669</td><td>0.078</td><td>24.329541</td><td>0.0278</td><td>24.110868</td><td>0.0142</td><td>23.928414</td><td>0.0159</td><td>23.560737</td><td>0.0159</td><td>23.10628</td><td>0.0263</td><td>-99.9</td><td>-99.9</td><td>-99.99</td><td>-99.99</td><td>24.4808</td><td>24.3732632</td><td>24.1893</td><td>24.106679</td><td>24.2687</td><td>24.203432</td><td>23.5189</td><td>23.4711922</td><td>-99.0</td><td>-99.0</td><td>-99.0</td><td>-99.0</td><td>-99.0</td><td>-99.0</td><td>-99.0</td><td>-99.0</td><td>0.0</td><td>0.0</td><td>0.0</td><td>0.0</td><td>-99.0</td><td>0.0</td><td>0.0</td><td>-99.0</td><td>-99.0</td><td>-99.0</td><td>-99.0</td><td>-99.0</td><td>-99.0</td><td>-99.0</td><td>-99.0</td><td>-99.0</td><td>-99.0</td><td>-99.0</td><td>-99.0</td><td>-99.0</td><td>-99.0</td><td>-99.0</td><td>-99.0</td><td>-99.0</td><td>-99.0</td><td>-99.0</td><td>-99.0</td><td>-99.0</td><td>0.0</td><td>24.4395</td><td>0.1017</td><td>24.4432</td><td>0.1298</td><td>44</td><td>1.1</td><td>26.1053</td><td>-0.014955</td><td>3.09013</td><td>24.9838</td><td>3.92</td><td>2.155</td><td>3.75</td><td>5.758</td><td>24.7054</td><td>0.1051</td><td>95.0268</td><td>9.19946</td><td>23.1831</td><td>0.0595</td><td>386.171</td><td>21.1518</td><td>130.04</td><td>11.8126</td><td>24.3648</td><td>0.0987</td><td>130.04</td><td>11.8126</td><td>121.395</td><td>11.3724</td><td>120.987</td><td>14.4579</td><td>0</td><td>23.363167</td><td>0.1784</td><td>22.668811</td><td>0.098</td><td>23.250121</td><td>0.1566</td><td>23.524</td><td>0.098</td><td>23.1</td><td>0.071</td><td>23.542</td><td>0.099</td><td>-99.9</td><td>-99.9</td><td>-99.9</td><td>-99.9</td><td>-99.9</td><td>-99.9</td><td>1.0867</td><td>-99.9</td><td>-99.9</td><td>10.3809</td><td>-99.9</td><td>-99.9</td><td>543.716</td><td>0.0</td><td>-99.9</td><td>-99.9</td><td>-99.9</td><td>-99.9</td><td>-99.9</td><td>-99.9</td><td>-99.9</td><td>-99.9</td><td>-99.9</td><td>-99.9</td><td>-99.9</td><td>-99.9</td><td>-99.9</td><td>-99.9</td><td>-99.9</td><td>-99.9</td><td>-99.9</td><td>-99.9</td><td>-99.9</td><td>-99.9</td><td>-99.9</td><td>-99.9</td><td>-99.9</td><td>-99.9</td><td>-99.9</td><td>-99.9</td><td>1.0</td><td>0.223487</td><td>0.006941</td><td>0.006941</td><td>1.165213</td><td>0.063489</td><td>0.875241</td><td>0.007518</td><td>0.007518</td><td>-99.9</td><td>-99.9</td><td>-99.9</td><td>-99.9</td><td>9999980.0</td><td>0.4</td><td>-19.086</td><td>-19.509</td><td>9.005</td><td>2.02653</td><td>11.0</td><td>3.068</td><td>52.0</td><td>0.551</td><td>0.531</td><td>0.483</td><td>0.4849</td><td>0.000149306</td><td>7.0859e-06</td><td>0.000100776</td><td>4.8124e-06</td><td>-67.48</td><td>-67.3</td><td>10110</td><td>V</td><td>F02P017</td><td>4</td><td>45</td><td>1</td><td>-99.9</td><td>-99.9</td><td>-99.9</td><td>-99.9</td><td>-99.9</td><td>9999999</td><td>9.12e-31</td><td>9.12e-31</td><td>9.12e-31</td><td>9.12e-31</td><td>9.12e-31</td><td>9.12e-31</td><td>9.12e-31</td><td>9.12e-31</td><td>9.12e-31</td><td>9.12e-31</td><td>9.12e-31</td><td>9.12e-31</td><td>9.12e-31</td><td>9.12e-31</td><td>9.12e-31</td><td>9.12e-31</td><td>9.12e-31</td><td>9.12e-31</td><td>9.12e-31</td><td>9.12e-31</td><td>9.12e-31</td><td>9.12e-31</td><td>9.12e-31</td><td>9.12e-31</td><td>9.12e-31</td><td>9.12e-31</td><td>9.12e-31</td><td>9.12e-31</td><td>9.12e-31</td><td>9.12e-31</td><td>9.12e-31</td><td>9.12e-31</td><td>9.12e-31</td><td>9.12e-31</td><td>9.12e-31</td><td>9.12e-31</td><td>9.12e-31</td><td>9.12e-31</td><td>9.12e-31</td><td>9.12e-31</td><td>9.12e-31</td><td>9.12e-31</td><td>9.12e-31</td><td>9.12e-31</td><td>9.12e-31</td><td>-99.9</td><td>-99.9</td><td>9.12e-31</td><td>9.12e-31</td><td>9.12e-31</td><td>9.12e-31</td><td>9.12e-31</td><td>9.12e-31</td><td>9.12e-31</td><td>9.12e-31</td><td>9.12e-31</td><td>9.12e-31</td><td>9.12e-31</td><td>9.12e-31</td><td>9.12e-31</td><td>9.12e-31</td><td>9.12e-31</td><td>9.12e-31</td><td>9.12e-31</td><td>9.12e-31</td><td>9.12e-31</td><td>9.12e-31</td><td>9.12e-31</td><td>9.12e-31</td><td>9.12e-31</td><td>9.12e-31</td><td>9.12e-31</td><td>9.12e-31</td><td>9.12e-31</td><td>9.12e-31</td><td>9.12e-31</td><td>9.12e-31</td><td>9.12e-31</td><td>9.12e-31</td><td>9.12e-31</td><td>9.12e-31</td><td>9.12e-31</td><td>9.12e-31</td><td>9.12e-31</td><td>9.12e-31</td><td>9.12e-31</td><td>9.12e-31</td><td>9.12e-31</td><td>9.12e-31</td><td>9.12e-31</td><td>9.12e-31</td><td>9.12e-31</td><td>9.12e-31</td><td>9.12e-31</td><td>9.12e-31</td><td>9.12e-31</td><td>-99.9</td><td>-99.9</td><td>-99.9</td><td>-99.9</td><td>-99.9</td><td>-99.9</td><td>-99.9</td><td>-99.9</td><td>-99.9</td><td>404.2</td><td>120.6</td><td>404.2</td><td>0.0</td><td>-35.66</td><td>5.35</td><td>2.45</td><td>0.32</td><td>0.0</td><td>-9.99</td><td>0.0</td><td>-9.99</td><td>0.0</td><td>-9.99</td><td>0.0</td><td>-9.99</td><td>0.0</td><td>-9.99</td><td>0.0</td><td>-9.99</td><td>0.0</td><td>-9.99</td><td>0.0</td><td>-9.99</td><td>0.0</td><td>-9.99</td><td>0.0</td><td>-9.99</td><td>0.0</td><td>-9.99</td><td>0.0</td><td>-9.99</td><td>0.0</td><td>-9.99</td><td>0.0</td><td>-9.99</td><td>0.0</td><td>-9.99</td><td>0.0</td><td>-9.99</td><td>-0.84</td><td>12.94</td><td>0.07</td><td>1.07</td><td>-0.43</td><td>10.29</td><td>0.04</td><td>0.84</td><td>6.353</td><td>16.811</td><td>0.0</td><td>-9.999</td><td>1.111</td><td>0.198</td><td>1.491</td><td>0.318</td><td>7.088</td><td>16.678</td><td>0.0</td><td>-9.999</td><td>1.07</td><td>0.189</td><td>1.405</td><td>0.29</td><td>0.0</td><td>0.0</td><td>1.82</td><td>2.34</td></tr>\n",
       "</table>"
      ],
      "text/plain": [
       "<Table length=5>\n",
       "  NUM             ID-IAU            ALPHA    ... HBETA_ABS HGAMMA_ABS HDELTA_ABS\n",
       " int64            str24            float64   ...  float64   float64    float64  \n",
       "-------- ------------------------ ---------- ... --------- ---------- ----------\n",
       "20086169 VVDS-J022546.07-044916.3 36.4419712 ...       0.0        0.0        0.0\n",
       "20086348 VVDS-J022643.08-044915.6 36.6795128 ...      0.91      -0.64        3.9\n",
       "20086397 VVDS-J022545.30-044913.1 36.4387748 ...       0.0       3.38       5.43\n",
       "20086400 VVDS-J022810.50-044912.9 37.0437708 ...       0.0       5.64       3.84\n",
       "20086422 VVDS-J022613.81-044914.2 36.5575475 ...       0.0       1.82       2.34"
      ]
     },
     "execution_count": 63,
     "metadata": {},
     "output_type": "execute_result"
    }
   ],
   "source": [
    "cat[:5]"
   ]
  },
  {
   "cell_type": "code",
   "execution_count": 65,
   "metadata": {},
   "outputs": [
    {
     "name": "stdout",
     "output_type": "stream",
     "text": [
      "20.7074428887\n"
     ]
    },
    {
     "data": {
      "image/png": "[encoded data removed]",
      "text/plain": [
       "<matplotlib.figure.Figure at 0x7f88f4b2ec90>"
      ]
     },
     "metadata": {},
     "output_type": "display_data"
    },
    {
     "data": {
      "image/png": "[encoded data removed]",
      "text/plain": [
       "<matplotlib.figure.Figure at 0x7f88b5e23850>"
      ]
     },
     "metadata": {},
     "output_type": "display_data"
    }
   ],
   "source": [
    "mask = (cat['ZFLAGS']==4) & (cat['Z']>0)\n",
    "print(np.sum(mask)/len(cat)*100)\n",
    "plt.hist(cat['Z'][mask], 100)\n",
    "plt.show()\n",
    "\n",
    "plt.hist(cat['Z'][mask], 100, range=(-0.03, 1))\n",
    "plt.show()"
   ]
  },
  {
   "cell_type": "markdown",
   "metadata": {},
   "source": [
    "-------\n",
    "## 6dFGS"
   ]
  },
  {
   "cell_type": "code",
   "execution_count": 17,
   "metadata": {},
   "outputs": [
    {
     "name": "stdout",
     "output_type": "stream",
     "text": [
      "24312\n"
     ]
    }
   ],
   "source": [
    "cat = Table.read(data_dir+'6dFGS-match.fits')\n",
    "print(len(cat))"
   ]
  },
  {
   "cell_type": "code",
   "execution_count": 18,
   "metadata": {},
   "outputs": [
    {
     "data": {
      "text/html": [
       "&lt;Table length=5&gt;\n",
       "<table id=\"table139730198697360\" class=\"table-striped table-bordered table-condensed\">\n",
       "<thead><tr><th>RAJ2000</th><th>DEJ2000</th><th>6dFGS</th><th>Nm</th><th>Nz</th><th>bJmag</th><th>PrID</th><th>rFmag</th><th>S_G</th><th>f_cz</th><th>cz</th><th>e_cz</th><th>r_cz</th><th>q_cz</th><th>AV</th><th>w</th><th>Target</th><th>Template</th><th>SpecID</th></tr></thead>\n",
       "<thead><tr><th>float64</th><th>float64</th><th>str15</th><th>uint8</th><th>uint8</th><th>float32</th><th>int16</th><th>float32</th><th>uint8</th><th>int16</th><th>int32</th><th>int16</th><th>int16</th><th>uint8</th><th>float32</th><th>uint8</th><th>int32</th><th>str9</th><th>str29</th></tr></thead>\n",
       "<tr><td>0.0184583333333</td><td>-0.0833333333333</td><td>g0000044-000500</td><td>0</td><td>0</td><td>15.87</td><td>1</td><td>14.65</td><td>1</td><td>0</td><td>5400</td><td>100</td><td>5</td><td>9</td><td>0.11</td><td>8</td><td>6</td><td>Z</td><td>0</td></tr>\n",
       "<tr><td>0.0210416666667</td><td>-5.20938888889</td><td>g0000051-051234</td><td>1</td><td>1</td><td>15.4</td><td>1</td><td>14.43</td><td>1</td><td>0</td><td>11368</td><td>45</td><td>126</td><td>4</td><td>0.1</td><td>8</td><td>7</td><td>3</td><td>116638</td></tr>\n",
       "<tr><td>0.028</td><td>-7.87505555556</td><td>g0000067-075230</td><td>1</td><td>1</td><td>17.05</td><td>1</td><td>15.54</td><td>1</td><td>0</td><td>25174</td><td>45</td><td>126</td><td>4</td><td>0.13</td><td>8</td><td>9</td><td>1</td><td>450</td></tr>\n",
       "<tr><td>0.032625</td><td>-0.0406388888889</td><td>g0000078-000226</td><td>1</td><td>1</td><td>15.94</td><td>1</td><td>15.0</td><td>1</td><td>0</td><td>7140</td><td>45</td><td>126</td><td>4</td><td>0.11</td><td>8</td><td>12</td><td>3</td><td>372</td></tr>\n",
       "<tr><td>0.036</td><td>-6.374</td><td>g0000086-062226</td><td>1</td><td>1</td><td>15.08</td><td>1</td><td>13.92</td><td>1</td><td>0</td><td>6531</td><td>45</td><td>126</td><td>4</td><td>0.15</td><td>8</td><td>15</td><td>3</td><td>472</td></tr>\n",
       "</table>"
      ],
      "text/plain": [
       "<Table length=5>\n",
       "    RAJ2000         DEJ2000      ...  Template             SpecID           \n",
       "    float64         float64      ...    str9               str29            \n",
       "--------------- ---------------- ... --------- -----------------------------\n",
       "0.0184583333333 -0.0833333333333 ... Z         0                            \n",
       "0.0210416666667   -5.20938888889 ... 3         116638                       \n",
       "          0.028   -7.87505555556 ... 1         450                          \n",
       "       0.032625 -0.0406388888889 ... 3         372                          \n",
       "          0.036           -6.374 ... 3         472                          "
      ]
     },
     "execution_count": 18,
     "metadata": {},
     "output_type": "execute_result"
    }
   ],
   "source": [
    "cat[:5]"
   ]
  },
  {
   "cell_type": "code",
   "execution_count": 20,
   "metadata": {},
   "outputs": [
    {
     "name": "stdout",
     "output_type": "stream",
     "text": [
      "87.3889437315\n"
     ]
    },
    {
     "data": {
      "image/png": "[encoded data removed]",
      "text/plain": [
       "<matplotlib.figure.Figure at 0x7f1578e7b510>"
      ]
     },
     "metadata": {},
     "output_type": "display_data"
    },
    {
     "data": {
      "image/png": "[encoded data removed]",
      "text/plain": [
       "<matplotlib.figure.Figure at 0x7f1579179050>"
      ]
     },
     "metadata": {},
     "output_type": "display_data"
    }
   ],
   "source": [
    "mask = (cat['q_cz']==4) & (cat['cz']>0)\n",
    "print(np.sum(mask)/len(cat)*100)\n",
    "plt.hist(cat['cz'][mask]/3e5, 100)\n",
    "plt.show()\n",
    "\n",
    "plt.hist(cat['cz'][mask]/3e5, 100, range=(-0.03, 0.3))\n",
    "plt.show()"
   ]
  },
  {
   "cell_type": "markdown",
   "metadata": {},
   "source": [
    "-------\n",
    "## 2dFGRS"
   ]
  },
  {
   "cell_type": "code",
   "execution_count": 21,
   "metadata": {},
   "outputs": [
    {
     "name": "stdout",
     "output_type": "stream",
     "text": [
      "81786\n"
     ]
    }
   ],
   "source": [
    "cat = Table.read(data_dir+'2dFGRS-match.fits')\n",
    "print(len(cat))"
   ]
  },
  {
   "cell_type": "code",
   "execution_count": 22,
   "metadata": {},
   "outputs": [
    {
     "data": {
      "text/html": [
       "&lt;Table length=5&gt;\n",
       "<table id=\"table139730202690128\" class=\"table-striped table-bordered table-condensed\">\n",
       "<thead><tr><th>SeqNum</th><th>o_SeqNum</th><th>Name</th><th>UKST</th><th>Bjmag</th><th>Bjsel</th><th>Bjmag_o</th><th>Bjsel_o</th><th>Gext</th><th>Bjmag_S</th><th>Rmag_S</th><th>ObsRun</th><th>z_obs</th><th>z</th><th>q_z</th><th>n_z</th><th>z_abs</th><th>T</th><th>Rx</th><th>z_em</th><th>o_z_em</th><th>SNR</th><th>eta</th><th>RAJ2000</th><th>DEJ2000</th></tr></thead>\n",
       "<thead><tr><th>str6</th><th>int32</th><th>str10</th><th>str3</th><th>float64</th><th>float64</th><th>float64</th><th>float64</th><th>float64</th><th>float64</th><th>float64</th><th>str5</th><th>float64</th><th>float64</th><th>int32</th><th>int32</th><th>float64</th><th>int32</th><th>float64</th><th>float64</th><th>int32</th><th>float64</th><th>float64</th><th>float64</th><th>float64</th></tr></thead>\n",
       "<tr><td>199284</td><td>2</td><td>TGN159Z061</td><td>782</td><td>19.321</td><td>19.156</td><td>19.47</td><td>19.35</td><td>0.165</td><td>19.558</td><td>18.997</td><td>01MAY</td><td>0.0</td><td>0.0</td><td>1</td><td>2</td><td>0.0</td><td>0</td><td>0.0</td><td>0.1282</td><td>1</td><td>1.7</td><td>0.0</td><td>157.63525</td><td>-4.17580555556</td></tr>\n",
       "<tr><td>206109</td><td>1</td><td>TGN161Z325</td><td>783</td><td>19.053</td><td>18.829</td><td>19.07</td><td>18.91</td><td>0.224</td><td>19.057</td><td>17.496</td><td>99FEB</td><td>0.0</td><td>0.0</td><td>1</td><td>2</td><td>0.0</td><td>0</td><td>0.0</td><td>0.1763</td><td>1</td><td>0.6</td><td>0.0</td><td>160.721625</td><td>-4.07533333333</td></tr>\n",
       "<tr><td>240672</td><td>1</td><td>TGN133Z135</td><td>790</td><td>19.023</td><td>18.905</td><td>19.03</td><td>18.96</td><td>0.118</td><td>19.207</td><td>18.356</td><td>02MAR</td><td>0.0</td><td>0.0</td><td>1</td><td>1</td><td>0.0</td><td>0</td><td>0.0</td><td>0.1231</td><td>1</td><td>0.9</td><td>0.0</td><td>196.608458333</td><td>-3.84188888889</td></tr>\n",
       "<tr><td>309389</td><td>1</td><td>TGN327Z016</td><td>862</td><td>18.743</td><td>18.665</td><td>18.93</td><td>18.88</td><td>0.078</td><td>18.88</td><td>17.945</td><td>99MAR</td><td>0.0</td><td>0.0</td><td>1</td><td>2</td><td>0.0</td><td>0</td><td>0.0</td><td>0.0074</td><td>1</td><td>1.2</td><td>0.0</td><td>196.200875</td><td>0.655305555556</td></tr>\n",
       "<tr><td>193552</td><td>1</td><td>TGN156Z001</td><td>781</td><td>18.52</td><td>18.379</td><td>18.48</td><td>18.37</td><td>0.141</td><td>18.496</td><td>17.143</td><td>99JAN</td><td>0.0976</td><td>0.0977</td><td>4</td><td>1</td><td>0.0976</td><td>1</td><td>12.3</td><td>0.0</td><td>0</td><td>27.1</td><td>-3.2329</td><td>153.131208333</td><td>-3.85375</td></tr>\n",
       "</table>"
      ],
      "text/plain": [
       "<Table length=5>\n",
       "SeqNum o_SeqNum    Name    UKST ...   SNR     eta      RAJ2000       DEJ2000    \n",
       " str6   int32     str10    str3 ... float64 float64    float64       float64    \n",
       "------ -------- ---------- ---- ... ------- ------- ------------- --------------\n",
       "199284        2 TGN159Z061  782 ...     1.7     0.0     157.63525 -4.17580555556\n",
       "206109        1 TGN161Z325  783 ...     0.6     0.0    160.721625 -4.07533333333\n",
       "240672        1 TGN133Z135  790 ...     0.9     0.0 196.608458333 -3.84188888889\n",
       "309389        1 TGN327Z016  862 ...     1.2     0.0    196.200875 0.655305555556\n",
       "193552        1 TGN156Z001  781 ...    27.1 -3.2329 153.131208333       -3.85375"
      ]
     },
     "execution_count": 22,
     "metadata": {},
     "output_type": "execute_result"
    }
   ],
   "source": [
    "cat[:5]"
   ]
  },
  {
   "cell_type": "code",
   "execution_count": 34,
   "metadata": {},
   "outputs": [
    {
     "name": "stdout",
     "output_type": "stream",
     "text": [
      "86.3497420096\n"
     ]
    },
    {
     "data": {
      "image/png": "[encoded data removed]",
      "text/plain": [
       "<matplotlib.figure.Figure at 0x7f1578c160d0>"
      ]
     },
     "metadata": {},
     "output_type": "display_data"
    },
    {
     "data": {
      "image/png": "[encoded data removed]",
      "text/plain": [
       "<matplotlib.figure.Figure at 0x7f157915e090>"
      ]
     },
     "metadata": {},
     "output_type": "display_data"
    },
    {
     "data": {
      "image/png": "[encoded data removed]",
      "text/plain": [
       "<matplotlib.figure.Figure at 0x7f1579066190>"
      ]
     },
     "metadata": {},
     "output_type": "display_data"
    }
   ],
   "source": [
    "mask = (cat['q_z']>=4)\n",
    "print(np.sum(mask)/len(cat)*100)\n",
    "plt.hist(cat['z'][mask], 100)\n",
    "plt.show()\n",
    "plt.hist(cat['z'][mask], 100, range=(-0.03, 0.3))\n",
    "plt.show()\n",
    "plt.hist(cat['z'][mask], 100, range=(-0.01, 0.01))\n",
    "plt.show()"
   ]
  },
  {
   "cell_type": "code",
   "execution_count": 36,
   "metadata": {},
   "outputs": [
    {
     "name": "stdout",
     "output_type": "stream",
     "text": [
      "83.2807570978\n"
     ]
    },
    {
     "data": {
      "image/png": "[encoded data removed]",
      "text/plain": [
       "<matplotlib.figure.Figure at 0x7f157902c550>"
      ]
     },
     "metadata": {},
     "output_type": "display_data"
    },
    {
     "data": {
      "image/png": "[encoded data removed]",
      "text/plain": [
       "<matplotlib.figure.Figure at 0x7f1579239b10>"
      ]
     },
     "metadata": {},
     "output_type": "display_data"
    },
    {
     "data": {
      "image/png": "[encoded data removed]",
      "text/plain": [
       "<matplotlib.figure.Figure at 0x7f1579239790>"
      ]
     },
     "metadata": {},
     "output_type": "display_data"
    }
   ],
   "source": [
    "# Remove the z~0 peak\n",
    "mask = (cat['q_z']>=4) & (cat['z']>0.002)\n",
    "print(np.sum(mask)/len(cat)*100)\n",
    "plt.hist(cat['z'][mask], 100)\n",
    "plt.show()\n",
    "plt.hist(cat['z'][mask], 100, range=(-0.03, 0.3))\n",
    "plt.show()\n",
    "plt.hist(cat['z'][mask], 100, range=(-0.01, 0.01))\n",
    "plt.show()"
   ]
  },
  {
   "cell_type": "code",
   "execution_count": null,
   "metadata": {
    "collapsed": true
   },
   "outputs": [],
   "source": []
  }
 ],
 "metadata": {
  "anaconda-cloud": {},
  "kernelspec": {
   "display_name": "Python 2",
   "language": "python",
   "name": "python2"
  },
  "language_info": {
   "codemirror_mode": {
    "name": "ipython",
    "version": 2
   },
   "file_extension": ".py",
   "mimetype": "text/x-python",
   "name": "python",
   "nbconvert_exporter": "python",
   "pygments_lexer": "ipython2",
   "version": "2.7.14"
  }
 },
 "nbformat": 4,
 "nbformat_minor": 2
}
