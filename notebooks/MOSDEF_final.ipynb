{
 "cells": [
  {
   "cell_type": "code",
   "execution_count": 27,
   "metadata": {
    "collapsed": true
   },
   "outputs": [],
   "source": [
    "%matplotlib inline\n",
    "\n",
    "from __future__ import print_function, division\n",
    "import numpy as np\n",
    "import sys, os\n",
    "from astropy.table import Table\n",
    "import fitsio\n",
    "import matplotlib.pyplot as plt"
   ]
  },
  {
   "cell_type": "code",
   "execution_count": 61,
   "metadata": {
    "collapsed": true
   },
   "outputs": [],
   "source": [
    "cat = Table.read('/Users/roz18/Downloads/mosdef_zcat.final.fits')\n",
    "# cat = Table.read('/Users/roz18/Downloads/mosdef_zcat.16aug2016.fits')"
   ]
  },
  {
   "cell_type": "code",
   "execution_count": 64,
   "metadata": {},
   "outputs": [
    {
     "name": "stdout",
     "output_type": "stream",
     "text": [
      "1114\n",
      "1114\n",
      "1114\n",
      "1114\n"
     ]
    }
   ],
   "source": [
    "print(len(cat))\n",
    "mask = cat['TARGET']==1\n",
    "cat = cat[mask]\n",
    "print(len(cat))\n",
    "mask = (cat['Z_MOSFIRE']>0)\n",
    "cat = cat[mask]\n",
    "print(len(cat))\n",
    "mask = cat['Z_MOSFIRE_ZQUAL']==7\n",
    "cat = cat[mask]\n",
    "print(len(cat))"
   ]
  },
  {
   "cell_type": "code",
   "execution_count": 63,
   "metadata": {
    "collapsed": true
   },
   "outputs": [],
   "source": [
    "cat.write('/Users/roz18/Downloads/mosdef_zcat.final.reduced.fits')"
   ]
  },
  {
   "cell_type": "code",
   "execution_count": 46,
   "metadata": {},
   "outputs": [
    {
     "data": {
      "text/html": [
       "&lt;Table length=1114&gt;\n",
       "<table id=\"table4608040336\" class=\"table-striped table-bordered table-condensed\">\n",
       "<thead><tr><th>FIELD</th><th>ID_V2</th><th>ID_V4</th><th>RA</th><th>DEC</th><th>Z_MOSFIRE</th><th>Z_MOSFIRE_ZQUAL</th><th>MASKNAME</th><th>TARGET</th></tr></thead>\n",
       "<thead><tr><th>str7</th><th>int32</th><th>int32</th><th>float64</th><th>float64</th><th>float32</th><th>int32</th><th>str8</th><th>int32</th></tr></thead>\n",
       "<tr><td>AEGIS</td><td>12870</td><td>36257</td><td>214.71847534</td><td>52.79872513</td><td>2.130651</td><td>7</td><td>ae2_03</td><td>1</td></tr>\n",
       "<tr><td>AEGIS</td><td>12528</td><td>34966</td><td>214.73649597</td><td>52.80632401</td><td>1.4176809</td><td>7</td><td>ae2_03</td><td>1</td></tr>\n",
       "<tr><td>AEGIS</td><td>12046</td><td>33808</td><td>214.7375946</td><td>52.80190277</td><td>2.2253952</td><td>7</td><td>ae2_03</td><td>1</td></tr>\n",
       "<tr><td>AEGIS</td><td>11578</td><td>32354</td><td>214.74291992</td><td>52.79995728</td><td>2.132772</td><td>7</td><td>ae2_03</td><td>1</td></tr>\n",
       "<tr><td>AEGIS</td><td>11299</td><td>31044</td><td>214.75021362</td><td>52.80117035</td><td>2.2945035</td><td>7</td><td>ae2_03</td><td>1</td></tr>\n",
       "<tr><td>AEGIS</td><td>10503</td><td>28799</td><td>214.75624084</td><td>52.79592896</td><td>2.2140515</td><td>7</td><td>ae2_03</td><td>1</td></tr>\n",
       "<tr><td>AEGIS</td><td>10002</td><td>27274</td><td>214.79962158</td><td>52.82111359</td><td>1.6133572</td><td>7</td><td>ae2_03</td><td>1</td></tr>\n",
       "<tr><td>AEGIS</td><td>9501</td><td>26028</td><td>214.80477905</td><td>52.8199501</td><td>2.158312</td><td>7</td><td>ae2_03</td><td>1</td></tr>\n",
       "<tr><td>AEGIS</td><td>7761</td><td>21675</td><td>214.78811646</td><td>52.79070282</td><td>2.4631245</td><td>7</td><td>ae2_03</td><td>1</td></tr>\n",
       "<tr><td>AEGIS</td><td>8430</td><td>23501</td><td>214.81965637</td><td>52.82038116</td><td>2.134062</td><td>7</td><td>ae2_03</td><td>1</td></tr>\n",
       "<tr><td>...</td><td>...</td><td>...</td><td>...</td><td>...</td><td>...</td><td>...</td><td>...</td><td>...</td></tr>\n",
       "<tr><td>GOODS-S</td><td>24307</td><td>36093</td><td>53.065221</td><td>-27.742901</td><td>2.6196432</td><td>7</td><td>gs2_all2</td><td>1</td></tr>\n",
       "<tr><td>GOODS-S</td><td>24436</td><td>36266</td><td>53.057085</td><td>-27.742932</td><td>2.4620795</td><td>7</td><td>gs2_all2</td><td>1</td></tr>\n",
       "<tr><td>GOODS-S</td><td>26665</td><td>39172</td><td>53.072413</td><td>-27.727473</td><td>2.0273237</td><td>7</td><td>gs2_all2</td><td>1</td></tr>\n",
       "<tr><td>GOODS-S</td><td>25595</td><td>37988</td><td>53.051881</td><td>-27.734035</td><td>2.2008457</td><td>7</td><td>gs2_all2</td><td>1</td></tr>\n",
       "<tr><td>GOODS-S</td><td>25028</td><td>36705</td><td>53.042456</td><td>-27.737862</td><td>2.306386</td><td>7</td><td>gs2_all2</td><td>1</td></tr>\n",
       "<tr><td>GOODS-S</td><td>28516</td><td>41547</td><td>53.064055</td><td>-27.716371</td><td>2.5451436</td><td>7</td><td>gs2_all2</td><td>1</td></tr>\n",
       "<tr><td>GOODS-S</td><td>26524</td><td>39048</td><td>53.044284</td><td>-27.728197</td><td>2.4327562</td><td>7</td><td>gs2_all2</td><td>1</td></tr>\n",
       "<tr><td>GOODS-S</td><td>29611</td><td>43114</td><td>53.062406</td><td>-27.706915</td><td>1.8869374</td><td>7</td><td>gs2_all2</td><td>1</td></tr>\n",
       "<tr><td>GOODS-S</td><td>28004</td><td>40768</td><td>53.040821</td><td>-27.719068</td><td>2.3035467</td><td>7</td><td>gs2_all2</td><td>1</td></tr>\n",
       "<tr><td>GOODS-S</td><td>31154</td><td>45188</td><td>53.063257</td><td>-27.699637</td><td>2.4061456</td><td>7</td><td>gs2_all2</td><td>1</td></tr>\n",
       "</table>"
      ],
      "text/plain": [
       "<Table length=1114>\n",
       " FIELD  ID_V2 ID_V4      RA      ... Z_MOSFIRE Z_MOSFIRE_ZQUAL MASKNAME TARGET\n",
       "  str7  int32 int32   float64    ...  float32       int32        str8   int32 \n",
       "------- ----- ----- ------------ ... --------- --------------- -------- ------\n",
       "AEGIS   12870 36257 214.71847534 ...  2.130651               7 ae2_03        1\n",
       "AEGIS   12528 34966 214.73649597 ... 1.4176809               7 ae2_03        1\n",
       "AEGIS   12046 33808  214.7375946 ... 2.2253952               7 ae2_03        1\n",
       "AEGIS   11578 32354 214.74291992 ...  2.132772               7 ae2_03        1\n",
       "AEGIS   11299 31044 214.75021362 ... 2.2945035               7 ae2_03        1\n",
       "AEGIS   10503 28799 214.75624084 ... 2.2140515               7 ae2_03        1\n",
       "AEGIS   10002 27274 214.79962158 ... 1.6133572               7 ae2_03        1\n",
       "AEGIS    9501 26028 214.80477905 ...  2.158312               7 ae2_03        1\n",
       "AEGIS    7761 21675 214.78811646 ... 2.4631245               7 ae2_03        1\n",
       "AEGIS    8430 23501 214.81965637 ...  2.134062               7 ae2_03        1\n",
       "    ...   ...   ...          ... ...       ...             ...      ...    ...\n",
       "GOODS-S 24307 36093    53.065221 ... 2.6196432               7 gs2_all2      1\n",
       "GOODS-S 24436 36266    53.057085 ... 2.4620795               7 gs2_all2      1\n",
       "GOODS-S 26665 39172    53.072413 ... 2.0273237               7 gs2_all2      1\n",
       "GOODS-S 25595 37988    53.051881 ... 2.2008457               7 gs2_all2      1\n",
       "GOODS-S 25028 36705    53.042456 ...  2.306386               7 gs2_all2      1\n",
       "GOODS-S 28516 41547    53.064055 ... 2.5451436               7 gs2_all2      1\n",
       "GOODS-S 26524 39048    53.044284 ... 2.4327562               7 gs2_all2      1\n",
       "GOODS-S 29611 43114    53.062406 ... 1.8869374               7 gs2_all2      1\n",
       "GOODS-S 28004 40768    53.040821 ... 2.3035467               7 gs2_all2      1\n",
       "GOODS-S 31154 45188    53.063257 ... 2.4061456               7 gs2_all2      1"
      ]
     },
     "execution_count": 46,
     "metadata": {},
     "output_type": "execute_result"
    }
   ],
   "source": [
    "cat"
   ]
  },
  {
   "cell_type": "code",
   "execution_count": 47,
   "metadata": {},
   "outputs": [
    {
     "data": {
      "image/png": "[encoded data removed]",
      "text/plain": [
       "<Figure size 1080x576 with 1 Axes>"
      ]
     },
     "metadata": {},
     "output_type": "display_data"
    }
   ],
   "source": [
    "plt.figure(figsize=(15, 8))\n",
    "plt.plot(cat['RA'], cat['DEC'], '.', markersize=2., alpha=0.5)\n",
    "plt.xlabel('RA')\n",
    "plt.ylabel('DEC')\n",
    "plt.title('MOSDEF')\n",
    "plt.show()"
   ]
  },
  {
   "cell_type": "markdown",
   "metadata": {},
   "source": [
    "__Check for duplicates__"
   ]
  },
  {
   "cell_type": "code",
   "execution_count": 48,
   "metadata": {
    "collapsed": true
   },
   "outputs": [],
   "source": [
    "from __future__ import division, print_function\n",
    "import numpy as np\n",
    "from astropy.table import Table\n",
    "import matplotlib.pyplot as plt\n",
    "import sys, os\n",
    "home = os.path.expanduser(\"~\")+'/'\n",
    "sys.path.append(home+'git/Python/user_modules/')\n",
    "import match_coord"
   ]
  },
  {
   "cell_type": "code",
   "execution_count": 65,
   "metadata": {},
   "outputs": [
    {
     "name": "stdout",
     "output_type": "stream",
     "text": [
      "77 objects with a nearby neighbor\n",
      "77 6.91%\n"
     ]
    },
    {
     "data": {
      "image/png": "[encoded data removed]",
      "text/plain": [
       "<Figure size 576x576 with 3 Axes>"
      ]
     },
     "metadata": {},
     "output_type": "display_data"
    }
   ],
   "source": [
    "n_duplicates, idx1, idx2 = match_coord.match_self(cat['RA'], cat['DEC'], search_radius=1., \n",
    "                                                  return_indices=True, plot_q=True)\n",
    "print(n_duplicates, '{:.2f}%'.format(n_duplicates/len(cat)*100))"
   ]
  },
  {
   "cell_type": "code",
   "execution_count": 66,
   "metadata": {},
   "outputs": [
    {
     "data": {
      "image/png": "[encoded data removed]",
      "text/plain": [
       "<Figure size 432x288 with 1 Axes>"
      ]
     },
     "metadata": {},
     "output_type": "display_data"
    }
   ],
   "source": [
    "plt.hist(cat['Z_MOSFIRE'][idx1] - cat['Z_MOSFIRE'][idx2], 100)\n",
    "plt.show()"
   ]
  },
  {
   "cell_type": "code",
   "execution_count": null,
   "metadata": {
    "collapsed": true
   },
   "outputs": [],
   "source": []
  }
 ],
 "metadata": {
  "anaconda-cloud": {},
  "kernelspec": {
   "display_name": "Python [Root]",
   "language": "python",
   "name": "Python [Root]"
  },
  "language_info": {
   "codemirror_mode": {
    "name": "ipython",
    "version": 2
   },
   "file_extension": ".py",
   "mimetype": "text/x-python",
   "name": "python",
   "nbconvert_exporter": "python",
   "pygments_lexer": "ipython2",
   "version": "2.7.14"
  }
 },
 "nbformat": 4,
 "nbformat_minor": 2
}
