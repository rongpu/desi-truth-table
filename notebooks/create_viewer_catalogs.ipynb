{
 "cells": [
  {
   "cell_type": "code",
   "execution_count": 1,
   "metadata": {
    "collapsed": true
   },
   "outputs": [],
   "source": [
    "%matplotlib inline\n",
    "from __future__ import division, print_function\n",
    "import numpy as np\n",
    "from astropy.table import Table\n",
    "import matplotlib.pyplot as plt\n",
    "import sys, os\n",
    "home = os.path.expanduser(\"~\")+'/'\n",
    "sys.path.append(home+'git/Python/user_modules/')\n",
    "import match_coord"
   ]
  },
  {
   "cell_type": "code",
   "execution_count": 29,
   "metadata": {},
   "outputs": [
    {
     "name": "stdout",
     "output_type": "stream",
     "text": [
      "2378\n",
      "1412\n"
     ]
    },
    {
     "data": {
      "image/png": "[encoded data removed]",
      "text/plain": [
       "<matplotlib.figure.Figure at 0x10a16c0d0>"
      ]
     },
     "metadata": {},
     "output_type": "display_data"
    }
   ],
   "source": [
    "# 3D-HST: AEGIS\n",
    "t = Table.read('/Users/roz18/Documents/Data/desi-truth-table/dr4.0/trimmed/3dhst.v4.1.5.master.aegis-trim.fits')\n",
    "print(len(t))\n",
    "mask = t['z_max_grism']>0\n",
    "t = t[mask]\n",
    "print(len(t))\n",
    "\n",
    "plt.hist(t['z_max_grism'], 100)\n",
    "plt.show()\n",
    "\n",
    "t1 = Table()\n",
    "t1['ra'] = t['ra']\n",
    "t1['dec'] = t['dec']\n",
    "t1.write('/Users/roz18/Documents/Temp/truth/viewer_catalogs/3dhst.v4.1.5.master.aegis-trim.fits')"
   ]
  },
  {
   "cell_type": "code",
   "execution_count": 31,
   "metadata": {},
   "outputs": [
    {
     "name": "stdout",
     "output_type": "stream",
     "text": [
      "4514\n",
      "2713\n"
     ]
    },
    {
     "data": {
      "image/png": "[encoded data removed]",
      "text/plain": [
       "<matplotlib.figure.Figure at 0x1082f8b90>"
      ]
     },
     "metadata": {},
     "output_type": "display_data"
    }
   ],
   "source": [
    "# 3D-HST: COSMOS\n",
    "t = Table.read('/Users/roz18/Documents/Data/desi-truth-table/dr3.1/trimmed/3dhst.v4.1.5.master.cosmos-trim.fits')\n",
    "print(len(t))\n",
    "mask = t['z_max_grism']>0\n",
    "t = t[mask]\n",
    "print(len(t))\n",
    "\n",
    "plt.hist(t['z_max_grism'], 100)\n",
    "plt.show()\n",
    "\n",
    "t1 = Table()\n",
    "t1['ra'] = t['ra']\n",
    "t1['dec'] = t['dec']\n",
    "t1.write('/Users/roz18/Documents/Temp/truth/viewer_catalogs/3dhst.v4.1.5.master.cosmos-trim.fits')"
   ]
  },
  {
   "cell_type": "code",
   "execution_count": 33,
   "metadata": {},
   "outputs": [
    {
     "name": "stdout",
     "output_type": "stream",
     "text": [
      "106\n",
      "82\n"
     ]
    },
    {
     "data": {
      "image/png": "[encoded data removed]",
      "text/plain": [
       "<matplotlib.figure.Figure at 0x108355150>"
      ]
     },
     "metadata": {},
     "output_type": "display_data"
    }
   ],
   "source": [
    "# MOSDEF - DR3.1 (COSMOS)\n",
    "t = Table.read('/Users/roz18/Documents/Data/desi-truth-table/dr3.1/trimmed/mosdef_zcat.16aug2016-trim.fits')\n",
    "print(len(t))\n",
    "mask = t['Z_MOSFIRE']>0\n",
    "t = t[mask]\n",
    "print(len(t))\n",
    "\n",
    "plt.hist(t['Z_MOSFIRE'], 100)\n",
    "plt.show()\n",
    "\n",
    "t1 = Table()\n",
    "t1['RA'] = t['RA']\n",
    "t1['DEC'] = t['DEC']\n",
    "t1.write('/Users/roz18/Documents/Temp/truth/viewer_catalogs/mosdef_zcat.16aug2016-trim-dr3.1.fits')"
   ]
  },
  {
   "cell_type": "code",
   "execution_count": 34,
   "metadata": {},
   "outputs": [
    {
     "name": "stdout",
     "output_type": "stream",
     "text": [
      "65\n",
      "55\n"
     ]
    },
    {
     "data": {
      "image/png": "[encoded data removed]",
      "text/plain": [
       "<matplotlib.figure.Figure at 0x10810d5d0>"
      ]
     },
     "metadata": {},
     "output_type": "display_data"
    }
   ],
   "source": [
    "# MOSDEF - DR4.0 (EGS)\n",
    "t = Table.read('/Users/roz18/Documents/Data/desi-truth-table/dr4.0/trimmed/mosdef_zcat.16aug2016-trim.fits')\n",
    "print(len(t))\n",
    "mask = t['Z_MOSFIRE']>0\n",
    "t = t[mask]\n",
    "print(len(t))\n",
    "\n",
    "plt.hist(t['Z_MOSFIRE'], 100)\n",
    "plt.show()\n",
    "\n",
    "t1 = Table()\n",
    "t1['RA'] = t['RA']\n",
    "t1['DEC'] = t['DEC']\n",
    "t1.write('/Users/roz18/Documents/Temp/truth/viewer_catalogs/mosdef_zcat.16aug2016-trim-dr4.0.fits')"
   ]
  },
  {
   "cell_type": "code",
   "execution_count": 36,
   "metadata": {},
   "outputs": [
    {
     "name": "stdout",
     "output_type": "stream",
     "text": [
      "787\n",
      "373\n"
     ]
    },
    {
     "data": {
      "image/png": "[encoded data removed]",
      "text/plain": [
       "<matplotlib.figure.Figure at 0x10919ae90>"
      ]
     },
     "metadata": {},
     "output_type": "display_data"
    }
   ],
   "source": [
    "# FMOS-COSMOS\n",
    "t = Table.read('/Users/roz18/Documents/Data/desi-truth-table/dr3.1/trimmed/FMOS_COSMOS_v1.0-trim.fits')\n",
    "print(len(t))\n",
    "mask = t['ZSPEC']>0\n",
    "t = t[mask]\n",
    "print(len(t))\n",
    "\n",
    "plt.hist(t['ZSPEC'], 100)\n",
    "plt.show()\n",
    "\n",
    "t1 = Table()\n",
    "t1['RA'] = t['RA']\n",
    "t1['DEC'] = t['DEC']\n",
    "t1.write('/Users/roz18/Documents/Temp/truth/viewer_catalogs/FMOS_COSMOS_v1.0-trim.fits')"
   ]
  },
  {
   "cell_type": "code",
   "execution_count": 42,
   "metadata": {},
   "outputs": [
    {
     "name": "stdout",
     "output_type": "stream",
     "text": [
      "16143\n",
      "15865\n",
      "1000\n"
     ]
    },
    {
     "data": {
      "image/png": "[encoded data removed]",
      "text/plain": [
       "<matplotlib.figure.Figure at 0x109538cd0>"
      ]
     },
     "metadata": {},
     "output_type": "display_data"
    }
   ],
   "source": [
    "# DEEP2\n",
    "t = Table.read('/Users/roz18/Documents/Data/desi-truth-table/dr4.0/trimmed/alldeep.egs.uniq.2012jun13-trim.fits')\n",
    "print(len(t))\n",
    "mask = t['ZHELIO']>0\n",
    "t = t[mask]\n",
    "print(len(t))\n",
    "idx = np.random.choice(len(t), size=1000, replace=False)\n",
    "t = t[idx]\n",
    "print(len(t))\n",
    "\n",
    "plt.hist(t['ZHELIO'], 100)\n",
    "plt.show()\n",
    "\n",
    "t1 = Table()\n",
    "t1['RA'] = t['RA']\n",
    "t1['DEC'] = t['DEC']\n",
    "t1.write('/Users/roz18/Documents/Temp/truth/viewer_catalogs/alldeep.egs.uniq.2012jun13-trim.fits')"
   ]
  },
  {
   "cell_type": "code",
   "execution_count": null,
   "metadata": {
    "collapsed": true
   },
   "outputs": [],
   "source": []
  }
 ],
 "metadata": {
  "anaconda-cloud": {},
  "kernelspec": {
   "display_name": "Python [Root]",
   "language": "python",
   "name": "Python [Root]"
  },
  "language_info": {
   "codemirror_mode": {
    "name": "ipython",
    "version": 2
   },
   "file_extension": ".py",
   "mimetype": "text/x-python",
   "name": "python",
   "nbconvert_exporter": "python",
   "pygments_lexer": "ipython2",
   "version": "2.7.11"
  }
 },
 "nbformat": 4,
 "nbformat_minor": 2
}
