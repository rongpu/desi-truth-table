{
 "cells": [
  {
   "cell_type": "code",
   "execution_count": null,
   "metadata": {},
   "outputs": [],
   "source": [
    "from __future__ import division, print_function\n",
    "import sys, os, glob, time, warnings, gc\n",
    "import numpy as np\n",
    "import matplotlib.pyplot as plt\n",
    "from astropy.table import Table, vstack, hstack, join\n",
    "import fitsio"
   ]
  },
  {
   "cell_type": "code",
   "execution_count": null,
   "metadata": {},
   "outputs": [],
   "source": [
    "params = {'legend.fontsize': 'large',\n",
    "         'axes.labelsize': 'large',\n",
    "         'axes.titlesize':'large',\n",
    "         'xtick.labelsize':'large',\n",
    "         'ytick.labelsize':'large',\n",
    "         'figure.facecolor':'w'} \n",
    "plt.rcParams.update(params)"
   ]
  },
  {
   "cell_type": "code",
   "execution_count": null,
   "metadata": {},
   "outputs": [],
   "source": [
    "# Load DESI Y1 zcatalog\n",
    "desi = Table(fitsio.read('/global/cfs/cdirs/desi/public/dr1/spectro/redux/iron/zcatalog/zpix-main-dark.fits',\n",
    "                         columns=['TARGETID', 'COADD_FIBERSTATUS', 'ZWARN', 'DESI_TARGET', 'Z']))\n",
    "print(len(desi))\n",
    "\n",
    "# Remove FIBERSTATUS!=0 fibers\n",
    "mask = desi['COADD_FIBERSTATUS']==0\n",
    "# Remove ZWARN!=0 fibers\n",
    "mask &= desi['ZWARN']==0\n",
    "# Select QSO targets\n",
    "mask &= (desi['DESI_TARGET'] & 2**2>0)\n",
    "desi = desi[mask]\n",
    "print(len(desi))"
   ]
  },
  {
   "cell_type": "markdown",
   "metadata": {},
   "source": [
    "Load DR16Q cross-matched catalog. __Use *DR9* cross-matched catalog as DR9 is the version used in DESI targeting.__"
   ]
  },
  {
   "cell_type": "code",
   "execution_count": null,
   "metadata": {
    "scrolled": true
   },
   "outputs": [],
   "source": [
    "ls = Table(fitsio.read('/global/cfs/cdirs/desi/target/analysis/truth/dr9.0/south/matched/ls-dr9.0-DR16Q_v4-match.fits', columns=['OBJID', 'BRICKID', 'RELEASE']))\n",
    "truth = Table(fitsio.read('/global/cfs/cdirs/desi/target/analysis/truth/dr9.0/south/matched/DR16Q_v4-match.fits', columns=['Z']))"
   ]
  },
  {
   "cell_type": "markdown",
   "metadata": {},
   "source": [
    "Add DESI TARGETID to the (pre-matched) external catalog"
   ]
  },
  {
   "cell_type": "code",
   "execution_count": null,
   "metadata": {},
   "outputs": [],
   "source": [
    "from desitarget import targets\n",
    "ls['TARGETID'] = targets.encode_targetid(ls['OBJID'], ls['BRICKID'], ls['RELEASE'])\n",
    "\n",
    "# Match to redrock catalog\n",
    "_, idx_desi, idx_truth = np.intersect1d(desi['TARGETID'], ls['TARGETID'], return_indices=True)\n",
    "print('Found {} matched objects'.format(len(idx_desi)))"
   ]
  },
  {
   "cell_type": "code",
   "execution_count": null,
   "metadata": {},
   "outputs": [],
   "source": [
    "sys.path.append(os.path.expanduser('~/git/desi-examples/sv'))\n",
    "from util import compare_redshifts  # https://github.com/rongpu/desi-examples/blob/master/sv/util.py\n",
    "\n",
    "outlier_threshold = 0.01\n",
    "compare_redshifts(truth['Z'][idx_truth], desi['Z'][idx_desi],\n",
    "                markersize=0.5, alpha=1, zmin=-0.05, zmax=4.5, outlier_threshold=outlier_threshold, dz_range=0.01,\n",
    "                xlabel='$z_{\\mathrm{SDSS}}$', ylabel='$z_{\\mathrm{DESI}}$', ylabel2='$\\\\Delta z/(1+z_{\\\\mathrm{SDSS}})$')"
   ]
  },
  {
   "cell_type": "code",
   "execution_count": null,
   "metadata": {},
   "outputs": [],
   "source": []
  }
 ],
 "metadata": {
  "@webio": {
   "lastCommId": null,
   "lastKernelId": null
  },
  "kernelspec": {
   "display_name": "DESI 22.2",
   "language": "python",
   "name": "desi-22.2"
  },
  "language_info": {
   "codemirror_mode": {
    "name": "ipython",
    "version": 3
   },
   "file_extension": ".py",
   "mimetype": "text/x-python",
   "name": "python",
   "nbconvert_exporter": "python",
   "pygments_lexer": "ipython3",
   "version": "3.9.7"
  }
 },
 "nbformat": 4,
 "nbformat_minor": 2
}
